{
 "cells": [
  {
   "cell_type": "markdown",
   "metadata": {},
   "source": [
    "## Name: Luke Nelson\n",
    "## Student ID: 5281493709"
   ]
  },
  {
   "cell_type": "markdown",
   "metadata": {},
   "source": [
    "# <center> Homework 2 </center>"
   ]
  },
  {
   "cell_type": "code",
   "execution_count": 1,
   "metadata": {},
   "outputs": [
    {
     "name": "stderr",
     "output_type": "stream",
     "text": [
      "/Users/lukenelson/anaconda3/lib/python3.6/site-packages/statsmodels/compat/pandas.py:56: FutureWarning: The pandas.core.datetools module is deprecated and will be removed in a future version. Please use the pandas.tseries module instead.\n",
      "  from pandas.core import datetools\n"
     ]
    }
   ],
   "source": [
    "import os\n",
    "import pandas as pd\n",
    "import numpy as np\n",
    "import seaborn as sns\n",
    "from sklearn.linear_model import LinearRegression\n",
    "import matplotlib.pyplot as plt\n",
    "import statsmodels.formula.api as smf\n",
    "from scipy import stats\n",
    "from sklearn.preprocessing import PolynomialFeatures\n",
    "import sklearn.model_selection as model_selection\n",
    "from sklearn import metrics\n",
    "from sklearn.neighbors import KNeighborsRegressor\n",
    "from sklearn.preprocessing import MinMaxScaler\n",
    "from scipy.spatial import distance\n",
    "from statsmodels.stats.outliers_influence import OLSInfluence\n",
    "import statsmodels.api as sm"
   ]
  },
  {
   "cell_type": "markdown",
   "metadata": {},
   "source": [
    "## Question 1\n",
    "###     (a) Download the Combined Cycle Power Plant data from the url"
   ]
  },
  {
   "cell_type": "code",
   "execution_count": 2,
   "metadata": {},
   "outputs": [
    {
     "data": {
      "text/html": [
       "<div>\n",
       "<style scoped>\n",
       "    .dataframe tbody tr th:only-of-type {\n",
       "        vertical-align: middle;\n",
       "    }\n",
       "\n",
       "    .dataframe tbody tr th {\n",
       "        vertical-align: top;\n",
       "    }\n",
       "\n",
       "    .dataframe thead th {\n",
       "        text-align: right;\n",
       "    }\n",
       "</style>\n",
       "<table border=\"1\" class=\"dataframe\">\n",
       "  <thead>\n",
       "    <tr style=\"text-align: right;\">\n",
       "      <th></th>\n",
       "      <th>AT</th>\n",
       "      <th>V</th>\n",
       "      <th>AP</th>\n",
       "      <th>RH</th>\n",
       "      <th>PE</th>\n",
       "    </tr>\n",
       "  </thead>\n",
       "  <tbody>\n",
       "    <tr>\n",
       "      <th>0</th>\n",
       "      <td>14.96</td>\n",
       "      <td>41.76</td>\n",
       "      <td>1024.07</td>\n",
       "      <td>73.17</td>\n",
       "      <td>463.26</td>\n",
       "    </tr>\n",
       "    <tr>\n",
       "      <th>1</th>\n",
       "      <td>25.18</td>\n",
       "      <td>62.96</td>\n",
       "      <td>1020.04</td>\n",
       "      <td>59.08</td>\n",
       "      <td>444.37</td>\n",
       "    </tr>\n",
       "    <tr>\n",
       "      <th>2</th>\n",
       "      <td>5.11</td>\n",
       "      <td>39.40</td>\n",
       "      <td>1012.16</td>\n",
       "      <td>92.14</td>\n",
       "      <td>488.56</td>\n",
       "    </tr>\n",
       "    <tr>\n",
       "      <th>3</th>\n",
       "      <td>20.86</td>\n",
       "      <td>57.32</td>\n",
       "      <td>1010.24</td>\n",
       "      <td>76.64</td>\n",
       "      <td>446.48</td>\n",
       "    </tr>\n",
       "    <tr>\n",
       "      <th>4</th>\n",
       "      <td>10.82</td>\n",
       "      <td>37.50</td>\n",
       "      <td>1009.23</td>\n",
       "      <td>96.62</td>\n",
       "      <td>473.90</td>\n",
       "    </tr>\n",
       "  </tbody>\n",
       "</table>\n",
       "</div>"
      ],
      "text/plain": [
       "      AT      V       AP     RH      PE\n",
       "0  14.96  41.76  1024.07  73.17  463.26\n",
       "1  25.18  62.96  1020.04  59.08  444.37\n",
       "2   5.11  39.40  1012.16  92.14  488.56\n",
       "3  20.86  57.32  1010.24  76.64  446.48\n",
       "4  10.82  37.50  1009.23  96.62  473.90"
      ]
     },
     "execution_count": 2,
     "metadata": {},
     "output_type": "execute_result"
    }
   ],
   "source": [
    "fileDir = os.path.dirname(os.path.realpath('__file__'))   \n",
    "filename = os.path.join(fileDir, '../data/CCPP/Folds5x2_pp.xlsx')\n",
    "filename = os.path.abspath(os.path.realpath(filename))\n",
    "df=pd.read_excel(filename, index_col=None)   #Read in the .xlsx file\n",
    "df.head()"
   ]
  },
  {
   "cell_type": "markdown",
   "metadata": {},
   "source": [
    "### (b) Exploring the Data\n",
    "### i. How many rows are in this data set? How many columns? What do the rows and columns represent?"
   ]
  },
  {
   "cell_type": "code",
   "execution_count": 7,
   "metadata": {},
   "outputs": [
    {
     "data": {
      "text/html": [
       "<div>\n",
       "<style scoped>\n",
       "    .dataframe tbody tr th:only-of-type {\n",
       "        vertical-align: middle;\n",
       "    }\n",
       "\n",
       "    .dataframe tbody tr th {\n",
       "        vertical-align: top;\n",
       "    }\n",
       "\n",
       "    .dataframe thead th {\n",
       "        text-align: right;\n",
       "    }\n",
       "</style>\n",
       "<table border=\"1\" class=\"dataframe\">\n",
       "  <thead>\n",
       "    <tr style=\"text-align: right;\">\n",
       "      <th></th>\n",
       "      <th>AT</th>\n",
       "      <th>V</th>\n",
       "      <th>AP</th>\n",
       "      <th>RH</th>\n",
       "      <th>PE</th>\n",
       "    </tr>\n",
       "  </thead>\n",
       "  <tbody>\n",
       "    <tr>\n",
       "      <th>0</th>\n",
       "      <td>14.96</td>\n",
       "      <td>41.76</td>\n",
       "      <td>1024.07</td>\n",
       "      <td>73.17</td>\n",
       "      <td>463.26</td>\n",
       "    </tr>\n",
       "    <tr>\n",
       "      <th>1</th>\n",
       "      <td>25.18</td>\n",
       "      <td>62.96</td>\n",
       "      <td>1020.04</td>\n",
       "      <td>59.08</td>\n",
       "      <td>444.37</td>\n",
       "    </tr>\n",
       "    <tr>\n",
       "      <th>2</th>\n",
       "      <td>5.11</td>\n",
       "      <td>39.40</td>\n",
       "      <td>1012.16</td>\n",
       "      <td>92.14</td>\n",
       "      <td>488.56</td>\n",
       "    </tr>\n",
       "    <tr>\n",
       "      <th>3</th>\n",
       "      <td>20.86</td>\n",
       "      <td>57.32</td>\n",
       "      <td>1010.24</td>\n",
       "      <td>76.64</td>\n",
       "      <td>446.48</td>\n",
       "    </tr>\n",
       "    <tr>\n",
       "      <th>4</th>\n",
       "      <td>10.82</td>\n",
       "      <td>37.50</td>\n",
       "      <td>1009.23</td>\n",
       "      <td>96.62</td>\n",
       "      <td>473.90</td>\n",
       "    </tr>\n",
       "    <tr>\n",
       "      <th>5</th>\n",
       "      <td>26.27</td>\n",
       "      <td>59.44</td>\n",
       "      <td>1012.23</td>\n",
       "      <td>58.77</td>\n",
       "      <td>443.67</td>\n",
       "    </tr>\n",
       "    <tr>\n",
       "      <th>6</th>\n",
       "      <td>15.89</td>\n",
       "      <td>43.96</td>\n",
       "      <td>1014.02</td>\n",
       "      <td>75.24</td>\n",
       "      <td>467.35</td>\n",
       "    </tr>\n",
       "    <tr>\n",
       "      <th>7</th>\n",
       "      <td>9.48</td>\n",
       "      <td>44.71</td>\n",
       "      <td>1019.12</td>\n",
       "      <td>66.43</td>\n",
       "      <td>478.42</td>\n",
       "    </tr>\n",
       "    <tr>\n",
       "      <th>8</th>\n",
       "      <td>14.64</td>\n",
       "      <td>45.00</td>\n",
       "      <td>1021.78</td>\n",
       "      <td>41.25</td>\n",
       "      <td>475.98</td>\n",
       "    </tr>\n",
       "    <tr>\n",
       "      <th>9</th>\n",
       "      <td>11.74</td>\n",
       "      <td>43.56</td>\n",
       "      <td>1015.14</td>\n",
       "      <td>70.72</td>\n",
       "      <td>477.50</td>\n",
       "    </tr>\n",
       "    <tr>\n",
       "      <th>10</th>\n",
       "      <td>17.99</td>\n",
       "      <td>43.72</td>\n",
       "      <td>1008.64</td>\n",
       "      <td>75.04</td>\n",
       "      <td>453.02</td>\n",
       "    </tr>\n",
       "    <tr>\n",
       "      <th>11</th>\n",
       "      <td>20.14</td>\n",
       "      <td>46.93</td>\n",
       "      <td>1014.66</td>\n",
       "      <td>64.22</td>\n",
       "      <td>453.99</td>\n",
       "    </tr>\n",
       "    <tr>\n",
       "      <th>12</th>\n",
       "      <td>24.34</td>\n",
       "      <td>73.50</td>\n",
       "      <td>1011.31</td>\n",
       "      <td>84.15</td>\n",
       "      <td>440.29</td>\n",
       "    </tr>\n",
       "    <tr>\n",
       "      <th>13</th>\n",
       "      <td>25.71</td>\n",
       "      <td>58.59</td>\n",
       "      <td>1012.77</td>\n",
       "      <td>61.83</td>\n",
       "      <td>451.28</td>\n",
       "    </tr>\n",
       "    <tr>\n",
       "      <th>14</th>\n",
       "      <td>26.19</td>\n",
       "      <td>69.34</td>\n",
       "      <td>1009.48</td>\n",
       "      <td>87.59</td>\n",
       "      <td>433.99</td>\n",
       "    </tr>\n",
       "    <tr>\n",
       "      <th>15</th>\n",
       "      <td>21.42</td>\n",
       "      <td>43.79</td>\n",
       "      <td>1015.76</td>\n",
       "      <td>43.08</td>\n",
       "      <td>462.19</td>\n",
       "    </tr>\n",
       "    <tr>\n",
       "      <th>16</th>\n",
       "      <td>18.21</td>\n",
       "      <td>45.00</td>\n",
       "      <td>1022.86</td>\n",
       "      <td>48.84</td>\n",
       "      <td>467.54</td>\n",
       "    </tr>\n",
       "    <tr>\n",
       "      <th>17</th>\n",
       "      <td>11.04</td>\n",
       "      <td>41.74</td>\n",
       "      <td>1022.60</td>\n",
       "      <td>77.51</td>\n",
       "      <td>477.20</td>\n",
       "    </tr>\n",
       "    <tr>\n",
       "      <th>18</th>\n",
       "      <td>14.45</td>\n",
       "      <td>52.75</td>\n",
       "      <td>1023.97</td>\n",
       "      <td>63.59</td>\n",
       "      <td>459.85</td>\n",
       "    </tr>\n",
       "    <tr>\n",
       "      <th>19</th>\n",
       "      <td>13.97</td>\n",
       "      <td>38.47</td>\n",
       "      <td>1015.15</td>\n",
       "      <td>55.28</td>\n",
       "      <td>464.30</td>\n",
       "    </tr>\n",
       "    <tr>\n",
       "      <th>20</th>\n",
       "      <td>17.76</td>\n",
       "      <td>42.42</td>\n",
       "      <td>1009.09</td>\n",
       "      <td>66.26</td>\n",
       "      <td>468.27</td>\n",
       "    </tr>\n",
       "    <tr>\n",
       "      <th>21</th>\n",
       "      <td>5.41</td>\n",
       "      <td>40.07</td>\n",
       "      <td>1019.16</td>\n",
       "      <td>64.77</td>\n",
       "      <td>495.24</td>\n",
       "    </tr>\n",
       "    <tr>\n",
       "      <th>22</th>\n",
       "      <td>7.76</td>\n",
       "      <td>42.28</td>\n",
       "      <td>1008.52</td>\n",
       "      <td>83.31</td>\n",
       "      <td>483.80</td>\n",
       "    </tr>\n",
       "    <tr>\n",
       "      <th>23</th>\n",
       "      <td>27.23</td>\n",
       "      <td>63.90</td>\n",
       "      <td>1014.30</td>\n",
       "      <td>47.19</td>\n",
       "      <td>443.61</td>\n",
       "    </tr>\n",
       "    <tr>\n",
       "      <th>24</th>\n",
       "      <td>27.36</td>\n",
       "      <td>48.60</td>\n",
       "      <td>1003.18</td>\n",
       "      <td>54.93</td>\n",
       "      <td>436.06</td>\n",
       "    </tr>\n",
       "    <tr>\n",
       "      <th>25</th>\n",
       "      <td>27.47</td>\n",
       "      <td>70.72</td>\n",
       "      <td>1009.97</td>\n",
       "      <td>74.62</td>\n",
       "      <td>443.25</td>\n",
       "    </tr>\n",
       "    <tr>\n",
       "      <th>26</th>\n",
       "      <td>14.60</td>\n",
       "      <td>39.31</td>\n",
       "      <td>1011.11</td>\n",
       "      <td>72.52</td>\n",
       "      <td>464.16</td>\n",
       "    </tr>\n",
       "    <tr>\n",
       "      <th>27</th>\n",
       "      <td>7.91</td>\n",
       "      <td>39.96</td>\n",
       "      <td>1023.57</td>\n",
       "      <td>88.44</td>\n",
       "      <td>475.52</td>\n",
       "    </tr>\n",
       "    <tr>\n",
       "      <th>28</th>\n",
       "      <td>5.81</td>\n",
       "      <td>35.79</td>\n",
       "      <td>1012.14</td>\n",
       "      <td>92.28</td>\n",
       "      <td>484.41</td>\n",
       "    </tr>\n",
       "    <tr>\n",
       "      <th>29</th>\n",
       "      <td>30.53</td>\n",
       "      <td>65.18</td>\n",
       "      <td>1012.69</td>\n",
       "      <td>41.85</td>\n",
       "      <td>437.89</td>\n",
       "    </tr>\n",
       "    <tr>\n",
       "      <th>...</th>\n",
       "      <td>...</td>\n",
       "      <td>...</td>\n",
       "      <td>...</td>\n",
       "      <td>...</td>\n",
       "      <td>...</td>\n",
       "    </tr>\n",
       "    <tr>\n",
       "      <th>9538</th>\n",
       "      <td>8.64</td>\n",
       "      <td>38.56</td>\n",
       "      <td>1016.51</td>\n",
       "      <td>66.03</td>\n",
       "      <td>484.45</td>\n",
       "    </tr>\n",
       "    <tr>\n",
       "      <th>9539</th>\n",
       "      <td>10.53</td>\n",
       "      <td>37.50</td>\n",
       "      <td>1008.55</td>\n",
       "      <td>99.91</td>\n",
       "      <td>472.32</td>\n",
       "    </tr>\n",
       "    <tr>\n",
       "      <th>9540</th>\n",
       "      <td>23.53</td>\n",
       "      <td>50.05</td>\n",
       "      <td>1005.63</td>\n",
       "      <td>78.40</td>\n",
       "      <td>443.71</td>\n",
       "    </tr>\n",
       "    <tr>\n",
       "      <th>9541</th>\n",
       "      <td>24.90</td>\n",
       "      <td>67.25</td>\n",
       "      <td>1017.77</td>\n",
       "      <td>66.17</td>\n",
       "      <td>433.71</td>\n",
       "    </tr>\n",
       "    <tr>\n",
       "      <th>9542</th>\n",
       "      <td>5.01</td>\n",
       "      <td>39.40</td>\n",
       "      <td>1003.69</td>\n",
       "      <td>91.90</td>\n",
       "      <td>475.34</td>\n",
       "    </tr>\n",
       "    <tr>\n",
       "      <th>9543</th>\n",
       "      <td>22.66</td>\n",
       "      <td>69.84</td>\n",
       "      <td>1006.16</td>\n",
       "      <td>82.79</td>\n",
       "      <td>439.06</td>\n",
       "    </tr>\n",
       "    <tr>\n",
       "      <th>9544</th>\n",
       "      <td>29.76</td>\n",
       "      <td>57.19</td>\n",
       "      <td>1008.59</td>\n",
       "      <td>51.10</td>\n",
       "      <td>436.21</td>\n",
       "    </tr>\n",
       "    <tr>\n",
       "      <th>9545</th>\n",
       "      <td>26.30</td>\n",
       "      <td>61.41</td>\n",
       "      <td>1012.45</td>\n",
       "      <td>56.85</td>\n",
       "      <td>448.55</td>\n",
       "    </tr>\n",
       "    <tr>\n",
       "      <th>9546</th>\n",
       "      <td>30.17</td>\n",
       "      <td>74.22</td>\n",
       "      <td>1007.46</td>\n",
       "      <td>49.27</td>\n",
       "      <td>432.00</td>\n",
       "    </tr>\n",
       "    <tr>\n",
       "      <th>9547</th>\n",
       "      <td>8.02</td>\n",
       "      <td>40.23</td>\n",
       "      <td>1017.42</td>\n",
       "      <td>90.26</td>\n",
       "      <td>484.22</td>\n",
       "    </tr>\n",
       "    <tr>\n",
       "      <th>9548</th>\n",
       "      <td>19.12</td>\n",
       "      <td>50.16</td>\n",
       "      <td>1011.52</td>\n",
       "      <td>99.71</td>\n",
       "      <td>451.49</td>\n",
       "    </tr>\n",
       "    <tr>\n",
       "      <th>9549</th>\n",
       "      <td>14.87</td>\n",
       "      <td>42.18</td>\n",
       "      <td>1015.23</td>\n",
       "      <td>74.41</td>\n",
       "      <td>465.89</td>\n",
       "    </tr>\n",
       "    <tr>\n",
       "      <th>9550</th>\n",
       "      <td>9.71</td>\n",
       "      <td>42.44</td>\n",
       "      <td>1014.29</td>\n",
       "      <td>94.03</td>\n",
       "      <td>481.03</td>\n",
       "    </tr>\n",
       "    <tr>\n",
       "      <th>9551</th>\n",
       "      <td>24.33</td>\n",
       "      <td>77.54</td>\n",
       "      <td>1008.50</td>\n",
       "      <td>82.45</td>\n",
       "      <td>435.38</td>\n",
       "    </tr>\n",
       "    <tr>\n",
       "      <th>9552</th>\n",
       "      <td>7.17</td>\n",
       "      <td>39.40</td>\n",
       "      <td>1011.48</td>\n",
       "      <td>90.38</td>\n",
       "      <td>484.33</td>\n",
       "    </tr>\n",
       "    <tr>\n",
       "      <th>9553</th>\n",
       "      <td>24.61</td>\n",
       "      <td>62.96</td>\n",
       "      <td>1020.10</td>\n",
       "      <td>63.83</td>\n",
       "      <td>445.79</td>\n",
       "    </tr>\n",
       "    <tr>\n",
       "      <th>9554</th>\n",
       "      <td>23.48</td>\n",
       "      <td>66.44</td>\n",
       "      <td>1011.28</td>\n",
       "      <td>61.11</td>\n",
       "      <td>443.21</td>\n",
       "    </tr>\n",
       "    <tr>\n",
       "      <th>9555</th>\n",
       "      <td>23.70</td>\n",
       "      <td>70.32</td>\n",
       "      <td>1007.21</td>\n",
       "      <td>66.85</td>\n",
       "      <td>439.59</td>\n",
       "    </tr>\n",
       "    <tr>\n",
       "      <th>9556</th>\n",
       "      <td>25.44</td>\n",
       "      <td>69.59</td>\n",
       "      <td>1008.22</td>\n",
       "      <td>80.73</td>\n",
       "      <td>433.97</td>\n",
       "    </tr>\n",
       "    <tr>\n",
       "      <th>9557</th>\n",
       "      <td>17.46</td>\n",
       "      <td>62.10</td>\n",
       "      <td>1019.96</td>\n",
       "      <td>83.99</td>\n",
       "      <td>451.06</td>\n",
       "    </tr>\n",
       "    <tr>\n",
       "      <th>9558</th>\n",
       "      <td>22.97</td>\n",
       "      <td>62.40</td>\n",
       "      <td>1010.25</td>\n",
       "      <td>75.18</td>\n",
       "      <td>445.30</td>\n",
       "    </tr>\n",
       "    <tr>\n",
       "      <th>9559</th>\n",
       "      <td>26.22</td>\n",
       "      <td>49.82</td>\n",
       "      <td>1015.48</td>\n",
       "      <td>55.80</td>\n",
       "      <td>454.20</td>\n",
       "    </tr>\n",
       "    <tr>\n",
       "      <th>9560</th>\n",
       "      <td>23.27</td>\n",
       "      <td>68.28</td>\n",
       "      <td>1005.01</td>\n",
       "      <td>74.83</td>\n",
       "      <td>444.86</td>\n",
       "    </tr>\n",
       "    <tr>\n",
       "      <th>9561</th>\n",
       "      <td>11.76</td>\n",
       "      <td>41.58</td>\n",
       "      <td>1020.91</td>\n",
       "      <td>88.35</td>\n",
       "      <td>465.45</td>\n",
       "    </tr>\n",
       "    <tr>\n",
       "      <th>9562</th>\n",
       "      <td>14.02</td>\n",
       "      <td>40.10</td>\n",
       "      <td>1015.56</td>\n",
       "      <td>82.44</td>\n",
       "      <td>467.32</td>\n",
       "    </tr>\n",
       "    <tr>\n",
       "      <th>9563</th>\n",
       "      <td>16.65</td>\n",
       "      <td>49.69</td>\n",
       "      <td>1014.01</td>\n",
       "      <td>91.00</td>\n",
       "      <td>460.03</td>\n",
       "    </tr>\n",
       "    <tr>\n",
       "      <th>9564</th>\n",
       "      <td>13.19</td>\n",
       "      <td>39.18</td>\n",
       "      <td>1023.67</td>\n",
       "      <td>66.78</td>\n",
       "      <td>469.62</td>\n",
       "    </tr>\n",
       "    <tr>\n",
       "      <th>9565</th>\n",
       "      <td>31.32</td>\n",
       "      <td>74.33</td>\n",
       "      <td>1012.92</td>\n",
       "      <td>36.48</td>\n",
       "      <td>429.57</td>\n",
       "    </tr>\n",
       "    <tr>\n",
       "      <th>9566</th>\n",
       "      <td>24.48</td>\n",
       "      <td>69.45</td>\n",
       "      <td>1013.86</td>\n",
       "      <td>62.39</td>\n",
       "      <td>435.74</td>\n",
       "    </tr>\n",
       "    <tr>\n",
       "      <th>9567</th>\n",
       "      <td>21.60</td>\n",
       "      <td>62.52</td>\n",
       "      <td>1017.23</td>\n",
       "      <td>67.87</td>\n",
       "      <td>453.28</td>\n",
       "    </tr>\n",
       "  </tbody>\n",
       "</table>\n",
       "<p>9568 rows × 5 columns</p>\n",
       "</div>"
      ],
      "text/plain": [
       "         AT      V       AP     RH      PE\n",
       "0     14.96  41.76  1024.07  73.17  463.26\n",
       "1     25.18  62.96  1020.04  59.08  444.37\n",
       "2      5.11  39.40  1012.16  92.14  488.56\n",
       "3     20.86  57.32  1010.24  76.64  446.48\n",
       "4     10.82  37.50  1009.23  96.62  473.90\n",
       "5     26.27  59.44  1012.23  58.77  443.67\n",
       "6     15.89  43.96  1014.02  75.24  467.35\n",
       "7      9.48  44.71  1019.12  66.43  478.42\n",
       "8     14.64  45.00  1021.78  41.25  475.98\n",
       "9     11.74  43.56  1015.14  70.72  477.50\n",
       "10    17.99  43.72  1008.64  75.04  453.02\n",
       "11    20.14  46.93  1014.66  64.22  453.99\n",
       "12    24.34  73.50  1011.31  84.15  440.29\n",
       "13    25.71  58.59  1012.77  61.83  451.28\n",
       "14    26.19  69.34  1009.48  87.59  433.99\n",
       "15    21.42  43.79  1015.76  43.08  462.19\n",
       "16    18.21  45.00  1022.86  48.84  467.54\n",
       "17    11.04  41.74  1022.60  77.51  477.20\n",
       "18    14.45  52.75  1023.97  63.59  459.85\n",
       "19    13.97  38.47  1015.15  55.28  464.30\n",
       "20    17.76  42.42  1009.09  66.26  468.27\n",
       "21     5.41  40.07  1019.16  64.77  495.24\n",
       "22     7.76  42.28  1008.52  83.31  483.80\n",
       "23    27.23  63.90  1014.30  47.19  443.61\n",
       "24    27.36  48.60  1003.18  54.93  436.06\n",
       "25    27.47  70.72  1009.97  74.62  443.25\n",
       "26    14.60  39.31  1011.11  72.52  464.16\n",
       "27     7.91  39.96  1023.57  88.44  475.52\n",
       "28     5.81  35.79  1012.14  92.28  484.41\n",
       "29    30.53  65.18  1012.69  41.85  437.89\n",
       "...     ...    ...      ...    ...     ...\n",
       "9538   8.64  38.56  1016.51  66.03  484.45\n",
       "9539  10.53  37.50  1008.55  99.91  472.32\n",
       "9540  23.53  50.05  1005.63  78.40  443.71\n",
       "9541  24.90  67.25  1017.77  66.17  433.71\n",
       "9542   5.01  39.40  1003.69  91.90  475.34\n",
       "9543  22.66  69.84  1006.16  82.79  439.06\n",
       "9544  29.76  57.19  1008.59  51.10  436.21\n",
       "9545  26.30  61.41  1012.45  56.85  448.55\n",
       "9546  30.17  74.22  1007.46  49.27  432.00\n",
       "9547   8.02  40.23  1017.42  90.26  484.22\n",
       "9548  19.12  50.16  1011.52  99.71  451.49\n",
       "9549  14.87  42.18  1015.23  74.41  465.89\n",
       "9550   9.71  42.44  1014.29  94.03  481.03\n",
       "9551  24.33  77.54  1008.50  82.45  435.38\n",
       "9552   7.17  39.40  1011.48  90.38  484.33\n",
       "9553  24.61  62.96  1020.10  63.83  445.79\n",
       "9554  23.48  66.44  1011.28  61.11  443.21\n",
       "9555  23.70  70.32  1007.21  66.85  439.59\n",
       "9556  25.44  69.59  1008.22  80.73  433.97\n",
       "9557  17.46  62.10  1019.96  83.99  451.06\n",
       "9558  22.97  62.40  1010.25  75.18  445.30\n",
       "9559  26.22  49.82  1015.48  55.80  454.20\n",
       "9560  23.27  68.28  1005.01  74.83  444.86\n",
       "9561  11.76  41.58  1020.91  88.35  465.45\n",
       "9562  14.02  40.10  1015.56  82.44  467.32\n",
       "9563  16.65  49.69  1014.01  91.00  460.03\n",
       "9564  13.19  39.18  1023.67  66.78  469.62\n",
       "9565  31.32  74.33  1012.92  36.48  429.57\n",
       "9566  24.48  69.45  1013.86  62.39  435.74\n",
       "9567  21.60  62.52  1017.23  67.87  453.28\n",
       "\n",
       "[9568 rows x 5 columns]"
      ]
     },
     "execution_count": 7,
     "metadata": {},
     "output_type": "execute_result"
    }
   ],
   "source": [
    "df.shape\n",
    "#df.info()\n",
    "df"
   ]
  },
  {
   "cell_type": "markdown",
   "metadata": {},
   "source": [
    "#### This dataset has 9568 rows (note: I am not considering the header to be a row) and 5 columns. The columns represent the variables/attributes, whereas the rows represent the observations taken at the combined cycle powerplant over the 6 years from 2006-2011; each row is an observation. Columns AT, V, AP, and RH are the feature variables, while PE is the output variable."
   ]
  },
  {
   "cell_type": "markdown",
   "metadata": {},
   "source": [
    "### ii. Make pairwise scatterplots of all the variables in the data set including the predictors (independent variables) with the dependent variable. Describe your findings."
   ]
  },
  {
   "cell_type": "code",
   "execution_count": 4,
   "metadata": {},
   "outputs": [
    {
     "data": {
      "image/png": "[encoded data removed]",
      "text/plain": [
       "<matplotlib.figure.Figure at 0x112167390>"
      ]
     },
     "metadata": {},
     "output_type": "display_data"
    }
   ],
   "source": [
    "g1 = sns.pairplot(df,\n",
    "                  kind='reg',\n",
    "                diag_kind='kde',\n",
    "                 palette='dark')"
   ]
  },
  {
   "cell_type": "markdown",
   "metadata": {},
   "source": [
    "#### It looks as if there may be some linear relationships among a number of the variable pairs. It looks like there might be a strong inverse linear relationship between PE and V, and PE and AT. There also appears to be inverse relationships among AT and RH. There looks to be a positive relationship among AT and V. It appears in the scatter plots that there may be some outliers in the data. Plots I would specifically like to check for outliers include PE x AT, PE x V, V x AP, V x AT, V x RH. While there are positive and negative relationships among a number of the variable, some of these relationships may be better modeled with interaction and non-linear models."
   ]
  },
  {
   "cell_type": "markdown",
   "metadata": {},
   "source": [
    "### iii. What are the mean, the median, range, first and third quartiles, and interquartile ranges of each of the variables in the dataset? Summarize them in a table"
   ]
  },
  {
   "cell_type": "code",
   "execution_count": 5,
   "metadata": {},
   "outputs": [
    {
     "data": {
      "text/html": [
       "<div>\n",
       "<style scoped>\n",
       "    .dataframe tbody tr th:only-of-type {\n",
       "        vertical-align: middle;\n",
       "    }\n",
       "\n",
       "    .dataframe tbody tr th {\n",
       "        vertical-align: top;\n",
       "    }\n",
       "\n",
       "    .dataframe thead th {\n",
       "        text-align: right;\n",
       "    }\n",
       "</style>\n",
       "<table border=\"1\" class=\"dataframe\">\n",
       "  <thead>\n",
       "    <tr style=\"text-align: right;\">\n",
       "      <th></th>\n",
       "      <th>AT</th>\n",
       "      <th>V</th>\n",
       "      <th>AP</th>\n",
       "      <th>RH</th>\n",
       "      <th>PE</th>\n",
       "    </tr>\n",
       "  </thead>\n",
       "  <tbody>\n",
       "    <tr>\n",
       "      <th>mean</th>\n",
       "      <td>19.651231</td>\n",
       "      <td>54.305804</td>\n",
       "      <td>1013.259078</td>\n",
       "      <td>73.308978</td>\n",
       "      <td>454.365009</td>\n",
       "    </tr>\n",
       "    <tr>\n",
       "      <th>first quartile</th>\n",
       "      <td>13.510000</td>\n",
       "      <td>41.740000</td>\n",
       "      <td>1009.100000</td>\n",
       "      <td>63.327500</td>\n",
       "      <td>439.750000</td>\n",
       "    </tr>\n",
       "    <tr>\n",
       "      <th>median</th>\n",
       "      <td>20.345000</td>\n",
       "      <td>52.080000</td>\n",
       "      <td>1012.940000</td>\n",
       "      <td>74.975000</td>\n",
       "      <td>451.550000</td>\n",
       "    </tr>\n",
       "    <tr>\n",
       "      <th>third quartile</th>\n",
       "      <td>25.720000</td>\n",
       "      <td>66.540000</td>\n",
       "      <td>1017.260000</td>\n",
       "      <td>84.830000</td>\n",
       "      <td>468.430000</td>\n",
       "    </tr>\n",
       "    <tr>\n",
       "      <th>range</th>\n",
       "      <td>35.300000</td>\n",
       "      <td>56.200000</td>\n",
       "      <td>40.410000</td>\n",
       "      <td>74.600000</td>\n",
       "      <td>75.500000</td>\n",
       "    </tr>\n",
       "    <tr>\n",
       "      <th>interquartile range</th>\n",
       "      <td>12.210000</td>\n",
       "      <td>24.800000</td>\n",
       "      <td>8.160000</td>\n",
       "      <td>21.502500</td>\n",
       "      <td>28.680000</td>\n",
       "    </tr>\n",
       "  </tbody>\n",
       "</table>\n",
       "</div>"
      ],
      "text/plain": [
       "                            AT          V           AP         RH          PE\n",
       "mean                 19.651231  54.305804  1013.259078  73.308978  454.365009\n",
       "first quartile       13.510000  41.740000  1009.100000  63.327500  439.750000\n",
       "median               20.345000  52.080000  1012.940000  74.975000  451.550000\n",
       "third quartile       25.720000  66.540000  1017.260000  84.830000  468.430000\n",
       "range                35.300000  56.200000    40.410000  74.600000   75.500000\n",
       "interquartile range  12.210000  24.800000     8.160000  21.502500   28.680000"
      ]
     },
     "execution_count": 5,
     "metadata": {},
     "output_type": "execute_result"
    }
   ],
   "source": [
    "table=df.describe()\n",
    "table=table.drop(['count','std'], axis=0)\n",
    "table.loc['range']=table.loc['max']-table.loc['min']\n",
    "table.loc['interquartile range']=table.loc['75%']-table.loc['25%']\n",
    "#table.loc['median']=df.median()    We don't need this becasue 50% is the median\n",
    "table=table.rename(index={'25%':'first quartile','50%':'median','75%':'third quartile'})    #Change the name of the index\n",
    "table=table.drop(['min','max'], axis=0)\n",
    "table"
   ]
  },
  {
   "cell_type": "markdown",
   "metadata": {},
   "source": [
    "### (C) For each predictor, fit a simple linear regression model to predict the response. Describe your results. In which of the models is there a statistically significant association between the predictor and the response? Create some plots to back up your assertions. Are there any outliers that you would like to remove from your data for each of these regression tasks?"
   ]
  },
  {
   "cell_type": "code",
   "execution_count": 6,
   "metadata": {},
   "outputs": [],
   "source": [
    "#Functions for running this 4 times\n",
    "\n",
    "def regress(dataframe, variable):\n",
    "    #scatterplot\n",
    "    #sns.pairplot(dataframe, x_vars=[variable], y_vars='PE', size=4, aspect=1.3, kind='reg')\n",
    "    \n",
    "    \n",
    "    # Use statsmodels to fit the model\n",
    "    reg = smf.ols(formula='PE ~ '+variable, data=dataframe).fit()\n",
    "    \n",
    "    #p-values\n",
    "    print('p-values are as follows:')\n",
    "    print(reg.pvalues)\n",
    "    \n",
    "    #print the summary\n",
    "    return reg.summary()\n",
    "\n",
    "#Boxplot Function\n",
    "def boxplot(dataframe, variable):\n",
    "    #Boxplot\n",
    "    return sns.boxplot(x=dataframe[variable])\n",
    "\n",
    "#Function to plot based on our predicted equation\n",
    "def reg_plot(dataframe,variable):\n",
    "    reg = smf.ols(formula='PE ~ '+variable, data=dataframe).fit()\n",
    "    params=reg.params\n",
    "    xmax=max(df.loc[:,variable].values)\n",
    "    xmin=min(df.loc[:,variable].values)\n",
    "    xlist=np.arange(xmin-1,xmax+1,1)\n",
    "    reg_line=list()\n",
    "    for i in xlist:\n",
    "        reg_func=params[0]+(params[1]*i)\n",
    "        reg_line.append(reg_func)\n",
    "\n",
    "    fig, ax = plt.subplots()\n",
    "    ax.plot(df.loc[:,variable].values, df.loc[:,'PE'].values, 'o', label='Data Points')\n",
    "    ax.plot(xlist, reg_line, 'r-', label='Regression Line',linewidth=2.0)\n",
    "    leg = ax.legend()\n",
    "    ax.set_xlabel(variable)\n",
    "    ax.set_title('PE vs. '+variable+' Scatter Plot with Regression Line')\n",
    "    ax.set_ylabel('PE')\n",
    "    ax.grid(True)\n",
    "    \n",
    "def outliers(dataframe, variable):\n",
    "    reg = smf.ols(formula='PE ~ '+variable, data=dataframe).fit()\n",
    "    infl = reg.get_influence()\n",
    "    stdnt=infl.resid_studentized_internal\n",
    "    stdnt=np.array(stdnt)\n",
    "    abs_stdnt=np.abs(stdnt)\n",
    "\n",
    "    v=df.loc[:,variable].values\n",
    "    v=v.ravel()\n",
    "    v=list(v)\n",
    "\n",
    "    f=df.loc[:,'PE'].values\n",
    "    f=f.ravel()\n",
    "    f=list(f)\n",
    "\n",
    "    find_index2=np.where(abs_stdnt>3)\n",
    "\n",
    "    find_index2=find_index2[0].ravel()\n",
    "    find_index2=list(find_index2)\n",
    "    print('The following ('+variable+', PE) values are outliers based on the studentized residuals method described in Section 3.3.3 of the ISLR Book:')\n",
    "    for q in find_index2:\n",
    "        v_star=v[q]\n",
    "        f_star=f[q]\n",
    "        ans=(v_star,f_star)\n",
    "        print(ans)\n",
    "     \n",
    "    \n",
    "    #Studentized \n",
    "    #reg = smf.ols(formula='PE ~ '+variable, data=dataframe).fit()\n",
    "    #infl = reg.get_influence()\n",
    "    #stdnt=infl.resid_studentized_internal\n",
    "    #stdnt=np.array(stdnt)\n",
    "\n",
    "    #predicted\n",
    "    params=reg.params\n",
    "    xvals=list()\n",
    "    x=df.loc[:,variable].values\n",
    "    x=x.ravel()\n",
    "    x=list(x)\n",
    "    for i in x:\n",
    "        reg_func=params[0]+(params[1]*i)\n",
    "        xvals.append(reg_func)\n",
    "\n",
    "    three = [3] * 9568\n",
    "    three_neg = [-3]*9568\n",
    "\n",
    "    fig, ax = plt.subplots()\n",
    "    ax.plot(xvals, stdnt, 'o',)\n",
    "    ax.plot(xvals,three,'k-')\n",
    "    ax.plot(xvals,three_neg,'k-')\n",
    "    ax.set_xlabel('Fitted Values')\n",
    "    ax.set_title('PE vs. '+variable+' Plot of Studentized Residuals')\n",
    "    ax.set_ylabel('Residuals')\n",
    "    ax.grid(True)  "
   ]
  },
  {
   "cell_type": "markdown",
   "metadata": {},
   "source": [
    "### AT:"
   ]
  },
  {
   "cell_type": "code",
   "execution_count": 7,
   "metadata": {},
   "outputs": [
    {
     "name": "stdout",
     "output_type": "stream",
     "text": [
      "p-values are as follows:\n",
      "Intercept    0.0\n",
      "AT           0.0\n",
      "dtype: float64\n"
     ]
    },
    {
     "data": {
      "text/html": [
       "<table class=\"simpletable\">\n",
       "<caption>OLS Regression Results</caption>\n",
       "<tr>\n",
       "  <th>Dep. Variable:</th>           <td>PE</td>        <th>  R-squared:         </th> <td>   0.899</td> \n",
       "</tr>\n",
       "<tr>\n",
       "  <th>Model:</th>                   <td>OLS</td>       <th>  Adj. R-squared:    </th> <td>   0.899</td> \n",
       "</tr>\n",
       "<tr>\n",
       "  <th>Method:</th>             <td>Least Squares</td>  <th>  F-statistic:       </th> <td>8.510e+04</td>\n",
       "</tr>\n",
       "<tr>\n",
       "  <th>Date:</th>             <td>Fri, 12 Jun 2020</td> <th>  Prob (F-statistic):</th>  <td>  0.00</td>  \n",
       "</tr>\n",
       "<tr>\n",
       "  <th>Time:</th>                 <td>17:23:25</td>     <th>  Log-Likelihood:    </th> <td> -29756.</td> \n",
       "</tr>\n",
       "<tr>\n",
       "  <th>No. Observations:</th>      <td>  9568</td>      <th>  AIC:               </th> <td>5.952e+04</td>\n",
       "</tr>\n",
       "<tr>\n",
       "  <th>Df Residuals:</th>          <td>  9566</td>      <th>  BIC:               </th> <td>5.953e+04</td>\n",
       "</tr>\n",
       "<tr>\n",
       "  <th>Df Model:</th>              <td>     1</td>      <th>                     </th>     <td> </td>    \n",
       "</tr>\n",
       "<tr>\n",
       "  <th>Covariance Type:</th>      <td>nonrobust</td>    <th>                     </th>     <td> </td>    \n",
       "</tr>\n",
       "</table>\n",
       "<table class=\"simpletable\">\n",
       "<tr>\n",
       "      <td></td>         <th>coef</th>     <th>std err</th>      <th>t</th>      <th>P>|t|</th>  <th>[0.025</th>    <th>0.975]</th>  \n",
       "</tr>\n",
       "<tr>\n",
       "  <th>Intercept</th> <td>  497.0341</td> <td>    0.156</td> <td> 3177.280</td> <td> 0.000</td> <td>  496.727</td> <td>  497.341</td>\n",
       "</tr>\n",
       "<tr>\n",
       "  <th>AT</th>        <td>   -2.1713</td> <td>    0.007</td> <td> -291.715</td> <td> 0.000</td> <td>   -2.186</td> <td>   -2.157</td>\n",
       "</tr>\n",
       "</table>\n",
       "<table class=\"simpletable\">\n",
       "<tr>\n",
       "  <th>Omnibus:</th>       <td>417.457</td> <th>  Durbin-Watson:     </th> <td>   2.033</td> \n",
       "</tr>\n",
       "<tr>\n",
       "  <th>Prob(Omnibus):</th> <td> 0.000</td>  <th>  Jarque-Bera (JB):  </th> <td>1117.844</td> \n",
       "</tr>\n",
       "<tr>\n",
       "  <th>Skew:</th>          <td>-0.209</td>  <th>  Prob(JB):          </th> <td>1.83e-243</td>\n",
       "</tr>\n",
       "<tr>\n",
       "  <th>Kurtosis:</th>      <td> 4.621</td>  <th>  Cond. No.          </th> <td>    59.4</td> \n",
       "</tr>\n",
       "</table>"
      ],
      "text/plain": [
       "<class 'statsmodels.iolib.summary.Summary'>\n",
       "\"\"\"\n",
       "                            OLS Regression Results                            \n",
       "==============================================================================\n",
       "Dep. Variable:                     PE   R-squared:                       0.899\n",
       "Model:                            OLS   Adj. R-squared:                  0.899\n",
       "Method:                 Least Squares   F-statistic:                 8.510e+04\n",
       "Date:                Fri, 12 Jun 2020   Prob (F-statistic):               0.00\n",
       "Time:                        17:23:25   Log-Likelihood:                -29756.\n",
       "No. Observations:                9568   AIC:                         5.952e+04\n",
       "Df Residuals:                    9566   BIC:                         5.953e+04\n",
       "Df Model:                           1                                         \n",
       "Covariance Type:            nonrobust                                         \n",
       "==============================================================================\n",
       "                 coef    std err          t      P>|t|      [0.025      0.975]\n",
       "------------------------------------------------------------------------------\n",
       "Intercept    497.0341      0.156   3177.280      0.000     496.727     497.341\n",
       "AT            -2.1713      0.007   -291.715      0.000      -2.186      -2.157\n",
       "==============================================================================\n",
       "Omnibus:                      417.457   Durbin-Watson:                   2.033\n",
       "Prob(Omnibus):                  0.000   Jarque-Bera (JB):             1117.844\n",
       "Skew:                          -0.209   Prob(JB):                    1.83e-243\n",
       "Kurtosis:                       4.621   Cond. No.                         59.4\n",
       "==============================================================================\n",
       "\n",
       "Warnings:\n",
       "[1] Standard Errors assume that the covariance matrix of the errors is correctly specified.\n",
       "\"\"\""
      ]
     },
     "execution_count": 7,
     "metadata": {},
     "output_type": "execute_result"
    }
   ],
   "source": [
    "#AT\n",
    "regress(df,'AT')\n"
   ]
  },
  {
   "cell_type": "code",
   "execution_count": 8,
   "metadata": {},
   "outputs": [
    {
     "data": {
      "image/png": "[encoded data removed]",
      "text/plain": [
       "<matplotlib.figure.Figure at 0x1185106a0>"
      ]
     },
     "metadata": {},
     "output_type": "display_data"
    }
   ],
   "source": [
    "reg_plot(df,'AT')"
   ]
  },
  {
   "cell_type": "code",
   "execution_count": 9,
   "metadata": {},
   "outputs": [
    {
     "data": {
      "text/plain": [
       "<matplotlib.axes._subplots.AxesSubplot at 0x112167240>"
      ]
     },
     "execution_count": 9,
     "metadata": {},
     "output_type": "execute_result"
    },
    {
     "data": {
      "image/png": "[encoded data removed]",
      "text/plain": [
       "<matplotlib.figure.Figure at 0x1186e7eb8>"
      ]
     },
     "metadata": {},
     "output_type": "display_data"
    }
   ],
   "source": [
    "boxplot(df,'AT')"
   ]
  },
  {
   "cell_type": "code",
   "execution_count": 10,
   "metadata": {},
   "outputs": [
    {
     "name": "stdout",
     "output_type": "stream",
     "text": [
      "The following (AT, PE) values are outliers based on the studentized residuals method described in Section 3.3.3 of the ISLR Book:\n",
      "(21.19, 469.76)\n",
      "(12.97, 452.07)\n",
      "(26.35, 458.41)\n",
      "(26.38, 457.81)\n",
      "(10.4, 492.09)\n",
      "(10.76, 490.78)\n",
      "(32.48, 446.48)\n",
      "(15.61, 439.21)\n",
      "(11.41, 449.5)\n",
      "(22.66, 431.27)\n",
      "(11.56, 489.54)\n",
      "(12.68, 448.69)\n",
      "(12.05, 454.18)\n",
      "(32.96, 443.57)\n",
      "(16.51, 442.48)\n",
      "(8.74, 438.63)\n",
      "(6.22, 443.73)\n",
      "(11.09, 490.96)\n",
      "(12.51, 452.84)\n",
      "(14.69, 434.12)\n",
      "(23.0, 421.57)\n",
      "(32.31, 450.13)\n",
      "(21.4, 434.09)\n",
      "(34.61, 438.56)\n",
      "(23.74, 463.4)\n",
      "(34.51, 439.8)\n",
      "(9.41, 492.88)\n",
      "(11.42, 490.02)\n",
      "(22.97, 466.7)\n",
      "(11.26, 489.66)\n",
      "(16.84, 437.14)\n",
      "(18.6, 430.38)\n",
      "(7.06, 448.97)\n",
      "(23.54, 426.24)\n",
      "(13.78, 445.98)\n",
      "(7.14, 435.58)\n",
      "(30.28, 447.67)\n",
      "(18.26, 428.67)\n",
      "(32.31, 449.65)\n",
      "(3.4, 459.86)\n",
      "(24.27, 420.26)\n",
      "(34.03, 440.29)\n"
     ]
    },
    {
     "data": {
      "image/png": "[encoded data removed]",
      "text/plain": [
       "<matplotlib.figure.Figure at 0x117b219e8>"
      ]
     },
     "metadata": {},
     "output_type": "display_data"
    }
   ],
   "source": [
    "outliers(df,'AT')"
   ]
  },
  {
   "cell_type": "markdown",
   "metadata": {},
   "source": [
    "#### Answer: Because the p-value for AT is below 0.05, we can reject the null in favor of the alternative. The alternative suggests there is a statistically significant association between the predictor AT and the response PE. Under the box plot method for locating outliers, there do not appear to be any outliers (see plot above). However, based on the studentized residuals method described in section 3.3.3 of the ISLR book, it appears that there are outliers. The outliers have been printed above and a plot of the residuals vs the predicted values is also provided. We can see that there are a number of observations with studentized residuals greater than abs(3) and are thus considered outliers."
   ]
  },
  {
   "cell_type": "markdown",
   "metadata": {},
   "source": [
    "### V:"
   ]
  },
  {
   "cell_type": "code",
   "execution_count": 11,
   "metadata": {},
   "outputs": [
    {
     "name": "stdout",
     "output_type": "stream",
     "text": [
      "p-values are as follows:\n",
      "Intercept    0.0\n",
      "V            0.0\n",
      "dtype: float64\n"
     ]
    },
    {
     "data": {
      "text/html": [
       "<table class=\"simpletable\">\n",
       "<caption>OLS Regression Results</caption>\n",
       "<tr>\n",
       "  <th>Dep. Variable:</th>           <td>PE</td>        <th>  R-squared:         </th> <td>   0.757</td> \n",
       "</tr>\n",
       "<tr>\n",
       "  <th>Model:</th>                   <td>OLS</td>       <th>  Adj. R-squared:    </th> <td>   0.756</td> \n",
       "</tr>\n",
       "<tr>\n",
       "  <th>Method:</th>             <td>Least Squares</td>  <th>  F-statistic:       </th> <td>2.972e+04</td>\n",
       "</tr>\n",
       "<tr>\n",
       "  <th>Date:</th>             <td>Fri, 12 Jun 2020</td> <th>  Prob (F-statistic):</th>  <td>  0.00</td>  \n",
       "</tr>\n",
       "<tr>\n",
       "  <th>Time:</th>                 <td>17:23:27</td>     <th>  Log-Likelihood:    </th> <td> -33963.</td> \n",
       "</tr>\n",
       "<tr>\n",
       "  <th>No. Observations:</th>      <td>  9568</td>      <th>  AIC:               </th> <td>6.793e+04</td>\n",
       "</tr>\n",
       "<tr>\n",
       "  <th>Df Residuals:</th>          <td>  9566</td>      <th>  BIC:               </th> <td>6.794e+04</td>\n",
       "</tr>\n",
       "<tr>\n",
       "  <th>Df Model:</th>              <td>     1</td>      <th>                     </th>     <td> </td>    \n",
       "</tr>\n",
       "<tr>\n",
       "  <th>Covariance Type:</th>      <td>nonrobust</td>    <th>                     </th>     <td> </td>    \n",
       "</tr>\n",
       "</table>\n",
       "<table class=\"simpletable\">\n",
       "<tr>\n",
       "      <td></td>         <th>coef</th>     <th>std err</th>      <th>t</th>      <th>P>|t|</th>  <th>[0.025</th>    <th>0.975]</th>  \n",
       "</tr>\n",
       "<tr>\n",
       "  <th>Intercept</th> <td>  517.8015</td> <td>    0.378</td> <td> 1370.218</td> <td> 0.000</td> <td>  517.061</td> <td>  518.542</td>\n",
       "</tr>\n",
       "<tr>\n",
       "  <th>V</th>         <td>   -1.1681</td> <td>    0.007</td> <td> -172.402</td> <td> 0.000</td> <td>   -1.181</td> <td>   -1.155</td>\n",
       "</tr>\n",
       "</table>\n",
       "<table class=\"simpletable\">\n",
       "<tr>\n",
       "  <th>Omnibus:</th>       <td>77.693</td> <th>  Durbin-Watson:     </th> <td>   2.007</td>\n",
       "</tr>\n",
       "<tr>\n",
       "  <th>Prob(Omnibus):</th> <td> 0.000</td> <th>  Jarque-Bera (JB):  </th> <td> 109.571</td>\n",
       "</tr>\n",
       "<tr>\n",
       "  <th>Skew:</th>          <td>-0.097</td> <th>  Prob(JB):          </th> <td>1.61e-24</td>\n",
       "</tr>\n",
       "<tr>\n",
       "  <th>Kurtosis:</th>      <td> 3.487</td> <th>  Cond. No.          </th> <td>    245.</td>\n",
       "</tr>\n",
       "</table>"
      ],
      "text/plain": [
       "<class 'statsmodels.iolib.summary.Summary'>\n",
       "\"\"\"\n",
       "                            OLS Regression Results                            \n",
       "==============================================================================\n",
       "Dep. Variable:                     PE   R-squared:                       0.757\n",
       "Model:                            OLS   Adj. R-squared:                  0.756\n",
       "Method:                 Least Squares   F-statistic:                 2.972e+04\n",
       "Date:                Fri, 12 Jun 2020   Prob (F-statistic):               0.00\n",
       "Time:                        17:23:27   Log-Likelihood:                -33963.\n",
       "No. Observations:                9568   AIC:                         6.793e+04\n",
       "Df Residuals:                    9566   BIC:                         6.794e+04\n",
       "Df Model:                           1                                         \n",
       "Covariance Type:            nonrobust                                         \n",
       "==============================================================================\n",
       "                 coef    std err          t      P>|t|      [0.025      0.975]\n",
       "------------------------------------------------------------------------------\n",
       "Intercept    517.8015      0.378   1370.218      0.000     517.061     518.542\n",
       "V             -1.1681      0.007   -172.402      0.000      -1.181      -1.155\n",
       "==============================================================================\n",
       "Omnibus:                       77.693   Durbin-Watson:                   2.007\n",
       "Prob(Omnibus):                  0.000   Jarque-Bera (JB):              109.571\n",
       "Skew:                          -0.097   Prob(JB):                     1.61e-24\n",
       "Kurtosis:                       3.487   Cond. No.                         245.\n",
       "==============================================================================\n",
       "\n",
       "Warnings:\n",
       "[1] Standard Errors assume that the covariance matrix of the errors is correctly specified.\n",
       "\"\"\""
      ]
     },
     "execution_count": 11,
     "metadata": {},
     "output_type": "execute_result"
    }
   ],
   "source": [
    "#V\n",
    "regress(df,'V')"
   ]
  },
  {
   "cell_type": "code",
   "execution_count": 12,
   "metadata": {},
   "outputs": [
    {
     "data": {
      "image/png": "[encoded data removed]",
      "text/plain": [
       "<matplotlib.figure.Figure at 0x1183f4390>"
      ]
     },
     "metadata": {},
     "output_type": "display_data"
    }
   ],
   "source": [
    "reg_plot(df,'V')"
   ]
  },
  {
   "cell_type": "code",
   "execution_count": 13,
   "metadata": {},
   "outputs": [
    {
     "data": {
      "text/plain": [
       "<matplotlib.axes._subplots.AxesSubplot at 0x1183f6208>"
      ]
     },
     "execution_count": 13,
     "metadata": {},
     "output_type": "execute_result"
    },
    {
     "data": {
      "image/png": "[encoded data removed]",
      "text/plain": [
       "<matplotlib.figure.Figure at 0x11827e6d8>"
      ]
     },
     "metadata": {},
     "output_type": "display_data"
    }
   ],
   "source": [
    "boxplot(df,'V')"
   ]
  },
  {
   "cell_type": "code",
   "execution_count": 14,
   "metadata": {},
   "outputs": [
    {
     "name": "stdout",
     "output_type": "stream",
     "text": [
      "The following (V, PE) values are outliers based on the studentized residuals method described in Section 3.3.3 of the ISLR Book:\n",
      "(71.14, 466.56)\n",
      "(42.67, 440.69)\n",
      "(38.52, 439.21)\n",
      "(71.14, 471.99)\n",
      "(71.14, 461.18)\n",
      "(43.21, 430.45)\n",
      "(25.88, 461.86)\n",
      "(47.93, 435.61)\n",
      "(43.77, 440.64)\n",
      "(43.21, 434.83)\n",
      "(25.88, 460.97)\n",
      "(71.14, 474.66)\n",
      "(36.3, 438.63)\n",
      "(39.85, 443.73)\n",
      "(49.64, 434.12)\n",
      "(43.21, 436.53)\n",
      "(43.77, 440.31)\n",
      "(44.37, 429.81)\n",
      "(43.77, 440.95)\n",
      "(71.14, 460.02)\n",
      "(71.14, 463.22)\n",
      "(43.21, 433.31)\n",
      "(43.21, 434.11)\n",
      "(53.3, 430.27)\n",
      "(43.21, 434.09)\n",
      "(43.5, 429.96)\n",
      "(71.14, 469.64)\n",
      "(41.22, 435.58)\n",
      "(43.21, 438.68)\n",
      "(71.14, 464.18)\n",
      "(44.05, 440.2)\n",
      "(71.14, 462.51)\n",
      "(47.93, 435.27)\n"
     ]
    },
    {
     "data": {
      "image/png": "[encoded data removed]",
      "text/plain": [
       "<matplotlib.figure.Figure at 0x118274978>"
      ]
     },
     "metadata": {},
     "output_type": "display_data"
    }
   ],
   "source": [
    "outliers(df,'V')"
   ]
  },
  {
   "cell_type": "markdown",
   "metadata": {},
   "source": [
    "#### Answer: Because the p-value for V is below 0.05, we can reject the null in favor of the alternative. The alternative suggests there is a statistically significant association between the predictor V and the response PE. Under the box plot method for locating outliers, there do not appear to be any outliers (see plot above). However, based on the studentized residuals method described in section 3.3.3 of the ISLR book, it appears that there are outliers. The outliers have been printed above and a plot of the residuals vs the predicted values is also provided. We can see that there are a number of observations with studentized residuals greater than abs(3) and are thus considered outliers."
   ]
  },
  {
   "cell_type": "markdown",
   "metadata": {},
   "source": [
    "### AP:"
   ]
  },
  {
   "cell_type": "code",
   "execution_count": 15,
   "metadata": {},
   "outputs": [
    {
     "name": "stdout",
     "output_type": "stream",
     "text": [
      "p-values are as follows:\n",
      "Intercept    0.0\n",
      "AP           0.0\n",
      "dtype: float64\n"
     ]
    },
    {
     "data": {
      "text/html": [
       "<table class=\"simpletable\">\n",
       "<caption>OLS Regression Results</caption>\n",
       "<tr>\n",
       "  <th>Dep. Variable:</th>           <td>PE</td>        <th>  R-squared:         </th> <td>   0.269</td> \n",
       "</tr>\n",
       "<tr>\n",
       "  <th>Model:</th>                   <td>OLS</td>       <th>  Adj. R-squared:    </th> <td>   0.269</td> \n",
       "</tr>\n",
       "<tr>\n",
       "  <th>Method:</th>             <td>Least Squares</td>  <th>  F-statistic:       </th> <td>   3516.</td> \n",
       "</tr>\n",
       "<tr>\n",
       "  <th>Date:</th>             <td>Fri, 12 Jun 2020</td> <th>  Prob (F-statistic):</th>  <td>  0.00</td>  \n",
       "</tr>\n",
       "<tr>\n",
       "  <th>Time:</th>                 <td>17:23:29</td>     <th>  Log-Likelihood:    </th> <td> -39224.</td> \n",
       "</tr>\n",
       "<tr>\n",
       "  <th>No. Observations:</th>      <td>  9568</td>      <th>  AIC:               </th> <td>7.845e+04</td>\n",
       "</tr>\n",
       "<tr>\n",
       "  <th>Df Residuals:</th>          <td>  9566</td>      <th>  BIC:               </th> <td>7.847e+04</td>\n",
       "</tr>\n",
       "<tr>\n",
       "  <th>Df Model:</th>              <td>     1</td>      <th>                     </th>     <td> </td>    \n",
       "</tr>\n",
       "<tr>\n",
       "  <th>Covariance Type:</th>      <td>nonrobust</td>    <th>                     </th>     <td> </td>    \n",
       "</tr>\n",
       "</table>\n",
       "<table class=\"simpletable\">\n",
       "<tr>\n",
       "      <td></td>         <th>coef</th>     <th>std err</th>      <th>t</th>      <th>P>|t|</th>  <th>[0.025</th>    <th>0.975]</th>  \n",
       "</tr>\n",
       "<tr>\n",
       "  <th>Intercept</th> <td>-1055.2610</td> <td>   25.459</td> <td>  -41.449</td> <td> 0.000</td> <td>-1105.167</td> <td>-1005.355</td>\n",
       "</tr>\n",
       "<tr>\n",
       "  <th>AP</th>        <td>    1.4899</td> <td>    0.025</td> <td>   59.296</td> <td> 0.000</td> <td>    1.441</td> <td>    1.539</td>\n",
       "</tr>\n",
       "</table>\n",
       "<table class=\"simpletable\">\n",
       "<tr>\n",
       "  <th>Omnibus:</th>       <td>525.438</td> <th>  Durbin-Watson:     </th> <td>   1.996</td> \n",
       "</tr>\n",
       "<tr>\n",
       "  <th>Prob(Omnibus):</th> <td> 0.000</td>  <th>  Jarque-Bera (JB):  </th> <td> 612.290</td> \n",
       "</tr>\n",
       "<tr>\n",
       "  <th>Skew:</th>          <td> 0.616</td>  <th>  Prob(JB):          </th> <td>1.10e-133</td>\n",
       "</tr>\n",
       "<tr>\n",
       "  <th>Kurtosis:</th>      <td> 2.859</td>  <th>  Cond. No.          </th> <td>1.73e+05</td> \n",
       "</tr>\n",
       "</table>"
      ],
      "text/plain": [
       "<class 'statsmodels.iolib.summary.Summary'>\n",
       "\"\"\"\n",
       "                            OLS Regression Results                            \n",
       "==============================================================================\n",
       "Dep. Variable:                     PE   R-squared:                       0.269\n",
       "Model:                            OLS   Adj. R-squared:                  0.269\n",
       "Method:                 Least Squares   F-statistic:                     3516.\n",
       "Date:                Fri, 12 Jun 2020   Prob (F-statistic):               0.00\n",
       "Time:                        17:23:29   Log-Likelihood:                -39224.\n",
       "No. Observations:                9568   AIC:                         7.845e+04\n",
       "Df Residuals:                    9566   BIC:                         7.847e+04\n",
       "Df Model:                           1                                         \n",
       "Covariance Type:            nonrobust                                         \n",
       "==============================================================================\n",
       "                 coef    std err          t      P>|t|      [0.025      0.975]\n",
       "------------------------------------------------------------------------------\n",
       "Intercept  -1055.2610     25.459    -41.449      0.000   -1105.167   -1005.355\n",
       "AP             1.4899      0.025     59.296      0.000       1.441       1.539\n",
       "==============================================================================\n",
       "Omnibus:                      525.438   Durbin-Watson:                   1.996\n",
       "Prob(Omnibus):                  0.000   Jarque-Bera (JB):              612.290\n",
       "Skew:                           0.616   Prob(JB):                    1.10e-133\n",
       "Kurtosis:                       2.859   Cond. No.                     1.73e+05\n",
       "==============================================================================\n",
       "\n",
       "Warnings:\n",
       "[1] Standard Errors assume that the covariance matrix of the errors is correctly specified.\n",
       "[2] The condition number is large, 1.73e+05. This might indicate that there are\n",
       "strong multicollinearity or other numerical problems.\n",
       "\"\"\""
      ]
     },
     "execution_count": 15,
     "metadata": {},
     "output_type": "execute_result"
    }
   ],
   "source": [
    "#AP\n",
    "regress(df,'AP')"
   ]
  },
  {
   "cell_type": "code",
   "execution_count": 16,
   "metadata": {},
   "outputs": [
    {
     "data": {
      "image/png": "[encoded data removed]",
      "text/plain": [
       "<matplotlib.figure.Figure at 0x11822b3c8>"
      ]
     },
     "metadata": {},
     "output_type": "display_data"
    }
   ],
   "source": [
    "reg_plot(df,'AP')"
   ]
  },
  {
   "cell_type": "code",
   "execution_count": 17,
   "metadata": {},
   "outputs": [
    {
     "data": {
      "text/plain": [
       "<matplotlib.axes._subplots.AxesSubplot at 0x118183828>"
      ]
     },
     "execution_count": 17,
     "metadata": {},
     "output_type": "execute_result"
    },
    {
     "data": {
      "image/png": "[encoded data removed]",
      "text/plain": [
       "<matplotlib.figure.Figure at 0x1184067f0>"
      ]
     },
     "metadata": {},
     "output_type": "display_data"
    }
   ],
   "source": [
    "boxplot(df,'AP')"
   ]
  },
  {
   "cell_type": "code",
   "execution_count": 18,
   "metadata": {},
   "outputs": [
    {
     "name": "stdout",
     "output_type": "stream",
     "text": [
      "The following (AP, PE) values are outliers based on the studentized residuals method described in Section 3.3.3 of the ISLR Book:\n",
      "(1003.24, 485.83)\n",
      "(995.24, 473.96)\n",
      "(996.32, 489.38)\n",
      "(999.77, 486.6)\n",
      "(1002.04, 485.57)\n",
      "(1005.35, 486.79)\n",
      "(998.79, 489.11)\n",
      "(1003.58, 486.09)\n",
      "(1001.43, 483.92)\n",
      "(1005.54, 488.36)\n",
      "(996.03, 475.46)\n",
      "(1001.95, 484.47)\n",
      "(1004.28, 486.41)\n",
      "(1002.48, 485.08)\n",
      "(1010.85, 494.9)\n",
      "(1001.66, 484.51)\n",
      "(999.37, 477.82)\n",
      "(1007.62, 489.8)\n",
      "(1003.51, 486.46)\n",
      "(1004.87, 485.67)\n",
      "(1003.82, 485.24)\n",
      "(993.74, 469.05)\n",
      "(1001.58, 484.87)\n",
      "(1002.09, 483.63)\n",
      "(997.67, 489.86)\n",
      "(999.22, 487.35)\n",
      "(1001.37, 485.6)\n",
      "(1004.24, 485.23)\n",
      "(1000.59, 485.2)\n"
     ]
    },
    {
     "data": {
      "image/png": "[encoded data removed]",
      "text/plain": [
       "<matplotlib.figure.Figure at 0x1182d3ef0>"
      ]
     },
     "metadata": {},
     "output_type": "display_data"
    }
   ],
   "source": [
    "outliers(df,'AP')"
   ]
  },
  {
   "cell_type": "markdown",
   "metadata": {},
   "source": [
    "#### Answer: Because the p-value for AP is below 0.05, we can reject the null in favor of the alternative. The alternative suggests there is a statistically significant association between the predictor AP and the response PE. Under the box plot method for locating outliers, there do appear to be a number of outliers (see plot above). Based on the studentized residuals method described in section 3.3.3 of the ISLR book, it appears that there are outliers as well. The outliers have been printed above and a plot of the residuals vs the predicted values is also provided. We can see that there are a number of observations with studentized residuals greater than abs(3) and are thus considered outliers."
   ]
  },
  {
   "cell_type": "markdown",
   "metadata": {},
   "source": [
    "### RH:"
   ]
  },
  {
   "cell_type": "code",
   "execution_count": 19,
   "metadata": {},
   "outputs": [
    {
     "name": "stdout",
     "output_type": "stream",
     "text": [
      "p-values are as follows:\n",
      "Intercept    0.0\n",
      "RH           0.0\n",
      "dtype: float64\n"
     ]
    },
    {
     "data": {
      "text/html": [
       "<table class=\"simpletable\">\n",
       "<caption>OLS Regression Results</caption>\n",
       "<tr>\n",
       "  <th>Dep. Variable:</th>           <td>PE</td>        <th>  R-squared:         </th> <td>   0.152</td> \n",
       "</tr>\n",
       "<tr>\n",
       "  <th>Model:</th>                   <td>OLS</td>       <th>  Adj. R-squared:    </th> <td>   0.152</td> \n",
       "</tr>\n",
       "<tr>\n",
       "  <th>Method:</th>             <td>Least Squares</td>  <th>  F-statistic:       </th> <td>   1714.</td> \n",
       "</tr>\n",
       "<tr>\n",
       "  <th>Date:</th>             <td>Fri, 12 Jun 2020</td> <th>  Prob (F-statistic):</th>  <td>  0.00</td>  \n",
       "</tr>\n",
       "<tr>\n",
       "  <th>Time:</th>                 <td>17:23:30</td>     <th>  Log-Likelihood:    </th> <td> -39933.</td> \n",
       "</tr>\n",
       "<tr>\n",
       "  <th>No. Observations:</th>      <td>  9568</td>      <th>  AIC:               </th> <td>7.987e+04</td>\n",
       "</tr>\n",
       "<tr>\n",
       "  <th>Df Residuals:</th>          <td>  9566</td>      <th>  BIC:               </th> <td>7.988e+04</td>\n",
       "</tr>\n",
       "<tr>\n",
       "  <th>Df Model:</th>              <td>     1</td>      <th>                     </th>     <td> </td>    \n",
       "</tr>\n",
       "<tr>\n",
       "  <th>Covariance Type:</th>      <td>nonrobust</td>    <th>                     </th>     <td> </td>    \n",
       "</tr>\n",
       "</table>\n",
       "<table class=\"simpletable\">\n",
       "<tr>\n",
       "      <td></td>         <th>coef</th>     <th>std err</th>      <th>t</th>      <th>P>|t|</th>  <th>[0.025</th>    <th>0.975]</th>  \n",
       "</tr>\n",
       "<tr>\n",
       "  <th>Intercept</th> <td>  420.9618</td> <td>    0.823</td> <td>  511.676</td> <td> 0.000</td> <td>  419.349</td> <td>  422.574</td>\n",
       "</tr>\n",
       "<tr>\n",
       "  <th>RH</th>        <td>    0.4557</td> <td>    0.011</td> <td>   41.399</td> <td> 0.000</td> <td>    0.434</td> <td>    0.477</td>\n",
       "</tr>\n",
       "</table>\n",
       "<table class=\"simpletable\">\n",
       "<tr>\n",
       "  <th>Omnibus:</th>       <td>772.278</td> <th>  Durbin-Watson:     </th> <td>   1.998</td>\n",
       "</tr>\n",
       "<tr>\n",
       "  <th>Prob(Omnibus):</th> <td> 0.000</td>  <th>  Jarque-Bera (JB):  </th> <td> 319.245</td>\n",
       "</tr>\n",
       "<tr>\n",
       "  <th>Skew:</th>          <td> 0.231</td>  <th>  Prob(JB):          </th> <td>4.75e-70</td>\n",
       "</tr>\n",
       "<tr>\n",
       "  <th>Kurtosis:</th>      <td> 2.234</td>  <th>  Cond. No.          </th> <td>    383.</td>\n",
       "</tr>\n",
       "</table>"
      ],
      "text/plain": [
       "<class 'statsmodels.iolib.summary.Summary'>\n",
       "\"\"\"\n",
       "                            OLS Regression Results                            \n",
       "==============================================================================\n",
       "Dep. Variable:                     PE   R-squared:                       0.152\n",
       "Model:                            OLS   Adj. R-squared:                  0.152\n",
       "Method:                 Least Squares   F-statistic:                     1714.\n",
       "Date:                Fri, 12 Jun 2020   Prob (F-statistic):               0.00\n",
       "Time:                        17:23:30   Log-Likelihood:                -39933.\n",
       "No. Observations:                9568   AIC:                         7.987e+04\n",
       "Df Residuals:                    9566   BIC:                         7.988e+04\n",
       "Df Model:                           1                                         \n",
       "Covariance Type:            nonrobust                                         \n",
       "==============================================================================\n",
       "                 coef    std err          t      P>|t|      [0.025      0.975]\n",
       "------------------------------------------------------------------------------\n",
       "Intercept    420.9618      0.823    511.676      0.000     419.349     422.574\n",
       "RH             0.4557      0.011     41.399      0.000       0.434       0.477\n",
       "==============================================================================\n",
       "Omnibus:                      772.278   Durbin-Watson:                   1.998\n",
       "Prob(Omnibus):                  0.000   Jarque-Bera (JB):              319.245\n",
       "Skew:                           0.231   Prob(JB):                     4.75e-70\n",
       "Kurtosis:                       2.234   Cond. No.                         383.\n",
       "==============================================================================\n",
       "\n",
       "Warnings:\n",
       "[1] Standard Errors assume that the covariance matrix of the errors is correctly specified.\n",
       "\"\"\""
      ]
     },
     "execution_count": 19,
     "metadata": {},
     "output_type": "execute_result"
    }
   ],
   "source": [
    "#RH\n",
    "regress(df,'RH')"
   ]
  },
  {
   "cell_type": "code",
   "execution_count": 20,
   "metadata": {},
   "outputs": [
    {
     "data": {
      "image/png": "[encoded data removed]",
      "text/plain": [
       "<matplotlib.figure.Figure at 0x117cb0278>"
      ]
     },
     "metadata": {},
     "output_type": "display_data"
    }
   ],
   "source": [
    "reg_plot(df,'RH')"
   ]
  },
  {
   "cell_type": "code",
   "execution_count": 21,
   "metadata": {},
   "outputs": [
    {
     "data": {
      "text/plain": [
       "<matplotlib.axes._subplots.AxesSubplot at 0x117b79080>"
      ]
     },
     "execution_count": 21,
     "metadata": {},
     "output_type": "execute_result"
    },
    {
     "data": {
      "image/png": "[encoded data removed]",
      "text/plain": [
       "<matplotlib.figure.Figure at 0x117c1b518>"
      ]
     },
     "metadata": {},
     "output_type": "display_data"
    }
   ],
   "source": [
    "boxplot(df,'RH')"
   ]
  },
  {
   "cell_type": "code",
   "execution_count": 22,
   "metadata": {},
   "outputs": [
    {
     "name": "stdout",
     "output_type": "stream",
     "text": [
      "The following (RH, PE) values are outliers based on the studentized residuals method described in Section 3.3.3 of the ISLR Book:\n",
      "(58.99, 495.21)\n",
      "(55.44, 493.72)\n"
     ]
    },
    {
     "data": {
      "image/png": "[encoded data removed]",
      "text/plain": [
       "<matplotlib.figure.Figure at 0x117a28f98>"
      ]
     },
     "metadata": {},
     "output_type": "display_data"
    }
   ],
   "source": [
    "outliers(df,'RH')"
   ]
  },
  {
   "cell_type": "markdown",
   "metadata": {},
   "source": [
    "#### Answer: Because the p-value for RH is below 0.05, we can reject the null in favor of the alternative. The alternative suggests there is a statistically significant association between the predictor RH and the response PE. Under the box plot method for locating outliers, there do appear to be a number of outliers (see plot above). Based on the studentized residuals method described in section 3.3.3 of the ISLR book, it appears that there are 2 outliers. The outliers have been printed above and a plot of the residuals vs the predicted values is also provided. We can see that there are a number of observations with studentized residuals greater than abs(3) and are thus considered outliers."
   ]
  },
  {
   "cell_type": "markdown",
   "metadata": {},
   "source": [
    "### Another method to check for outliers:"
   ]
  },
  {
   "cell_type": "code",
   "execution_count": 23,
   "metadata": {},
   "outputs": [
    {
     "name": "stdout",
     "output_type": "stream",
     "text": [
      "(array([ 319,  536,  669,  715,  753,  789,  810,  847, 1091, 1250, 1660,\n",
      "       2262, 2298, 2481, 2579, 2761, 3015, 3021, 3213, 3412, 3483, 3603,\n",
      "       3796, 3955, 4067, 4125, 4327, 4367, 5431, 5529, 5690, 5805, 5840,\n",
      "       5863, 5928, 5956, 6006, 6346, 6789, 7077, 7186, 7320, 7485, 7807,\n",
      "       7892, 8061, 8098, 8104, 8133, 8270, 8462, 8568, 8751, 9015, 9068,\n",
      "       9159, 9267, 9342]), array([2, 2, 2, 2, 2, 3, 2, 2, 2, 2, 2, 3, 2, 2, 2, 2, 2, 2, 2, 2, 2, 3,\n",
      "       2, 2, 2, 2, 2, 3, 2, 2, 2, 2, 2, 2, 2, 2, 2, 2, 2, 2, 2, 2, 2, 2,\n",
      "       2, 3, 2, 2, 2, 2, 2, 2, 3, 3, 2, 2, 2, 2]))\n"
     ]
    }
   ],
   "source": [
    "#Checking for outliers via the z-score method\n",
    "z = np.abs(stats.zscore(df))\n",
    "print(np.where(z > 3))"
   ]
  },
  {
   "cell_type": "markdown",
   "metadata": {},
   "source": [
    "#### Overall Answer: <br>\n",
    "#### Assuming an alpha of 0.05, there is a statistically significant association between the predictor and the response for each of the 4 models.<br>\n",
    "#### Based on the studentized residuals method described in section 3.3.3 of the ISLR book, it appears that there are outliers in all four of the models. The outliers have been printed above for each model and a plot of the residuals is also provided.<br>\n",
    "#### If we want to identify outliers with boxplots, there are outliers in the PE vs AP and PE vs RH models. The boxplots cleary show there are a number of outliers for each of these two models. While calculating z-scores for all data points in the dataframe, I've located all data points with a z score greater than 3 or less than -3, and have defined these as outliers. This method agrees with the boxplot method, because the z-score method flagged a number of outliers in the AP and RH columns.<br>"
   ]
  },
  {
   "cell_type": "markdown",
   "metadata": {},
   "source": [
    "### (d) Fit a multiple regression model to predict the response using all of the predictors. Describe your results. For which predictors can we reject the null hypothesis H0: Bj=0?"
   ]
  },
  {
   "cell_type": "code",
   "execution_count": 24,
   "metadata": {},
   "outputs": [
    {
     "name": "stdout",
     "output_type": "stream",
     "text": [
      "                            OLS Regression Results                            \n",
      "==============================================================================\n",
      "Dep. Variable:                     PE   R-squared:                       0.929\n",
      "Model:                            OLS   Adj. R-squared:                  0.929\n",
      "Method:                 Least Squares   F-statistic:                 3.114e+04\n",
      "Date:                Fri, 12 Jun 2020   Prob (F-statistic):               0.00\n",
      "Time:                        17:23:31   Log-Likelihood:                -28088.\n",
      "No. Observations:                9568   AIC:                         5.619e+04\n",
      "Df Residuals:                    9563   BIC:                         5.622e+04\n",
      "Df Model:                           4                                         \n",
      "Covariance Type:            nonrobust                                         \n",
      "==============================================================================\n",
      "                 coef    std err          t      P>|t|      [0.025      0.975]\n",
      "------------------------------------------------------------------------------\n",
      "Intercept    454.6093      9.749     46.634      0.000     435.500     473.718\n",
      "AT            -1.9775      0.015   -129.342      0.000      -2.007      -1.948\n",
      "V             -0.2339      0.007    -32.122      0.000      -0.248      -0.220\n",
      "AP             0.0621      0.009      6.564      0.000       0.044       0.081\n",
      "RH            -0.1581      0.004    -37.918      0.000      -0.166      -0.150\n",
      "==============================================================================\n",
      "Omnibus:                      892.002   Durbin-Watson:                   2.033\n",
      "Prob(Omnibus):                  0.000   Jarque-Bera (JB):             4086.777\n",
      "Skew:                          -0.352   Prob(JB):                         0.00\n",
      "Kurtosis:                       6.123   Cond. No.                     2.13e+05\n",
      "==============================================================================\n",
      "\n",
      "Warnings:\n",
      "[1] Standard Errors assume that the covariance matrix of the errors is correctly specified.\n",
      "[2] The condition number is large, 2.13e+05. This might indicate that there are\n",
      "strong multicollinearity or other numerical problems.\n"
     ]
    }
   ],
   "source": [
    "mreg = smf.ols(formula='PE ~ AT + V + AP + RH', data=df).fit()\n",
    "\n",
    "\n",
    "print(mreg.summary())\n"
   ]
  },
  {
   "cell_type": "markdown",
   "metadata": {},
   "source": [
    "#### Answer:<br>\n",
    "#### All 4 predictors have small p-values (p-values less than 0.05), so we reject the null for AT, V, AP, and RH. Since we reject the null, we favor the alternative and thus can say that there is a statistically significant association between the predictors and the response.  <br>\n",
    "#### AP is positively associated with PE, whereas the remaining predictors are negatively associated with PE. <br>\n",
    "#### This model has a high R-sqaured which suggests that a large proportion of the variance of PE can be explained by the predictor variables."
   ]
  },
  {
   "cell_type": "markdown",
   "metadata": {},
   "source": [
    "### (e) How do your results from 1c compare to your results from 1d? Create a plot displaying the univariate regression coefficients from 1c on the x-axis and the multiple regresison coefficients from 1d on the y-axis. That is, each predictor is displayed as a single point in the plot. Its coefficient in a simple linear regression model is shown on the x axis and its coefficient estimate in the multiple linear regression model is shown on the y axis. "
   ]
  },
  {
   "cell_type": "code",
   "execution_count": 25,
   "metadata": {},
   "outputs": [],
   "source": [
    "def params(dataframe, variable):\n",
    "    # Use statsmodels to fit the model\n",
    "    reg = smf.ols(formula='PE ~ '+variable, data=dataframe).fit()\n",
    "    \n",
    "    #pparams\n",
    "    x=reg.params\n",
    "    return x[1]"
   ]
  },
  {
   "cell_type": "code",
   "execution_count": 26,
   "metadata": {},
   "outputs": [
    {
     "data": {
      "text/html": [
       "<div>\n",
       "<style scoped>\n",
       "    .dataframe tbody tr th:only-of-type {\n",
       "        vertical-align: middle;\n",
       "    }\n",
       "\n",
       "    .dataframe tbody tr th {\n",
       "        vertical-align: top;\n",
       "    }\n",
       "\n",
       "    .dataframe thead th {\n",
       "        text-align: right;\n",
       "    }\n",
       "</style>\n",
       "<table border=\"1\" class=\"dataframe\">\n",
       "  <thead>\n",
       "    <tr style=\"text-align: right;\">\n",
       "      <th></th>\n",
       "      <th>Feature</th>\n",
       "      <th>Multiple Regression Coeff.</th>\n",
       "      <th>Univariate Coefficient</th>\n",
       "    </tr>\n",
       "  </thead>\n",
       "  <tbody>\n",
       "    <tr>\n",
       "      <th>0</th>\n",
       "      <td>AT</td>\n",
       "      <td>-1.977513</td>\n",
       "      <td>-2.171320</td>\n",
       "    </tr>\n",
       "    <tr>\n",
       "      <th>1</th>\n",
       "      <td>V</td>\n",
       "      <td>-0.233916</td>\n",
       "      <td>-1.168135</td>\n",
       "    </tr>\n",
       "    <tr>\n",
       "      <th>2</th>\n",
       "      <td>AP</td>\n",
       "      <td>0.062083</td>\n",
       "      <td>1.489872</td>\n",
       "    </tr>\n",
       "    <tr>\n",
       "      <th>3</th>\n",
       "      <td>RH</td>\n",
       "      <td>-0.158054</td>\n",
       "      <td>0.455650</td>\n",
       "    </tr>\n",
       "  </tbody>\n",
       "</table>\n",
       "</div>"
      ],
      "text/plain": [
       "  Feature  Multiple Regression Coeff.  Univariate Coefficient\n",
       "0      AT                   -1.977513               -2.171320\n",
       "1       V                   -0.233916               -1.168135\n",
       "2      AP                    0.062083                1.489872\n",
       "3      RH                   -0.158054                0.455650"
      ]
     },
     "execution_count": 26,
     "metadata": {},
     "output_type": "execute_result"
    }
   ],
   "source": [
    "lab=['AT','V','AP','RH']\n",
    "c_x=[params(df,'AT'),params(df,'V'),params(df,'AP'),params(df,'RH')]\n",
    "d_y=[mreg.params[1],mreg.params[2],mreg.params[3],mreg.params[4]]\n",
    "comp={'Feature':lab,'Univariate Coefficient':c_x,'Multiple Regression Coeff.':d_y}\n",
    "comp=pd.DataFrame(comp)\n",
    "comp"
   ]
  },
  {
   "cell_type": "code",
   "execution_count": 27,
   "metadata": {},
   "outputs": [
    {
     "data": {
      "image/png": "[encoded data removed]",
      "text/plain": [
       "<matplotlib.figure.Figure at 0x1180349e8>"
      ]
     },
     "metadata": {},
     "output_type": "display_data"
    }
   ],
   "source": [
    "#Plot\n",
    "fig, ax = plt.subplots()\n",
    "ax.scatter(c_x, d_y)\n",
    "ax.set_xlabel('Univariate Regression Coefficient')\n",
    "ax.set_title('Multiple Regression vs. Univariate Coefficients for Features')\n",
    "ax.set_ylabel('Multiple Regression Coefficient')\n",
    "ax.grid(True)\n",
    "\n",
    "for i, txt in enumerate(lab):\n",
    "    ax.annotate(txt, (c_x[i], d_y[i]))"
   ]
  },
  {
   "cell_type": "markdown",
   "metadata": {},
   "source": [
    "#### Answer: <br>Please see the plot above. All four predictors appear to have a statistically significant association to PE when placed in its own simple linear regression model. When all predictors are placed together in a multiple linear regression model, they all still appear to have a statiscally significant association to PE. The coefficient for AT remained similar in both models at around -2. The magnitudes of V, AP, and RH wer larger in the univariate model. The coefficient for RH was positively associated with PE in the univariate model, but negative associated in the multiple regression model. AP was positively associated with PE in both models. AT and V were negatively associated with PE in both models."
   ]
  },
  {
   "cell_type": "markdown",
   "metadata": {},
   "source": [
    "### (f) Is there evidence of nonlinear association between any of the predictors and the response? To answer this question, for each predictor X, fit a model of the form Y=B0+B1X+B2X^2+B3X^3+epsilon"
   ]
  },
  {
   "cell_type": "code",
   "execution_count": 28,
   "metadata": {},
   "outputs": [],
   "source": [
    "#Function for this\n",
    "\n",
    "def nonlin_regress(dataframe, variable):\n",
    "    #Create new matrix of the predictor to include the polynomials\n",
    "    X=dataframe.loc[:,variable].values.reshape(-1,1)\n",
    "    poly = PolynomialFeatures(3)\n",
    "    X=poly.fit_transform(X)\n",
    "    \n",
    "    #Re-create dataframe from the array X\n",
    "    new_df=pd.DataFrame({'X':X[:,1], 'X2':X[:,2],'X3':X[:,3]})\n",
    "    new_df.loc[:,'PE']=dataframe.loc[:,'PE']\n",
    "    \n",
    "    nlreg = smf.ols(formula='PE ~ X + X2 + X3', data=new_df).fit()\n",
    "\n",
    "    return nlreg.summary()\n",
    "    "
   ]
  },
  {
   "cell_type": "markdown",
   "metadata": {},
   "source": [
    "### AT:"
   ]
  },
  {
   "cell_type": "code",
   "execution_count": 29,
   "metadata": {},
   "outputs": [
    {
     "data": {
      "text/html": [
       "<table class=\"simpletable\">\n",
       "<caption>OLS Regression Results</caption>\n",
       "<tr>\n",
       "  <th>Dep. Variable:</th>           <td>PE</td>        <th>  R-squared:         </th> <td>   0.912</td> \n",
       "</tr>\n",
       "<tr>\n",
       "  <th>Model:</th>                   <td>OLS</td>       <th>  Adj. R-squared:    </th> <td>   0.912</td> \n",
       "</tr>\n",
       "<tr>\n",
       "  <th>Method:</th>             <td>Least Squares</td>  <th>  F-statistic:       </th> <td>3.299e+04</td>\n",
       "</tr>\n",
       "<tr>\n",
       "  <th>Date:</th>             <td>Fri, 12 Jun 2020</td> <th>  Prob (F-statistic):</th>  <td>  0.00</td>  \n",
       "</tr>\n",
       "<tr>\n",
       "  <th>Time:</th>                 <td>17:23:32</td>     <th>  Log-Likelihood:    </th> <td> -29101.</td> \n",
       "</tr>\n",
       "<tr>\n",
       "  <th>No. Observations:</th>      <td>  9568</td>      <th>  AIC:               </th> <td>5.821e+04</td>\n",
       "</tr>\n",
       "<tr>\n",
       "  <th>Df Residuals:</th>          <td>  9564</td>      <th>  BIC:               </th> <td>5.824e+04</td>\n",
       "</tr>\n",
       "<tr>\n",
       "  <th>Df Model:</th>              <td>     3</td>      <th>                     </th>     <td> </td>    \n",
       "</tr>\n",
       "<tr>\n",
       "  <th>Covariance Type:</th>      <td>nonrobust</td>    <th>                     </th>     <td> </td>    \n",
       "</tr>\n",
       "</table>\n",
       "<table class=\"simpletable\">\n",
       "<tr>\n",
       "      <td></td>         <th>coef</th>     <th>std err</th>      <th>t</th>      <th>P>|t|</th>  <th>[0.025</th>    <th>0.975]</th>  \n",
       "</tr>\n",
       "<tr>\n",
       "  <th>Intercept</th> <td>  492.7281</td> <td>    0.673</td> <td>  732.248</td> <td> 0.000</td> <td>  491.409</td> <td>  494.047</td>\n",
       "</tr>\n",
       "<tr>\n",
       "  <th>X</th>         <td>   -0.6103</td> <td>    0.124</td> <td>   -4.941</td> <td> 0.000</td> <td>   -0.852</td> <td>   -0.368</td>\n",
       "</tr>\n",
       "<tr>\n",
       "  <th>X2</th>        <td>   -0.1251</td> <td>    0.007</td> <td>  -18.199</td> <td> 0.000</td> <td>   -0.139</td> <td>   -0.112</td>\n",
       "</tr>\n",
       "<tr>\n",
       "  <th>X3</th>        <td>    0.0027</td> <td>    0.000</td> <td>   22.594</td> <td> 0.000</td> <td>    0.002</td> <td>    0.003</td>\n",
       "</tr>\n",
       "</table>\n",
       "<table class=\"simpletable\">\n",
       "<tr>\n",
       "  <th>Omnibus:</th>       <td>648.041</td> <th>  Durbin-Watson:     </th> <td>   2.033</td>\n",
       "</tr>\n",
       "<tr>\n",
       "  <th>Prob(Omnibus):</th> <td> 0.000</td>  <th>  Jarque-Bera (JB):  </th> <td>2767.059</td>\n",
       "</tr>\n",
       "<tr>\n",
       "  <th>Skew:</th>          <td>-0.191</td>  <th>  Prob(JB):          </th> <td>    0.00</td>\n",
       "</tr>\n",
       "<tr>\n",
       "  <th>Kurtosis:</th>      <td> 5.607</td>  <th>  Cond. No.          </th> <td>1.90e+05</td>\n",
       "</tr>\n",
       "</table>"
      ],
      "text/plain": [
       "<class 'statsmodels.iolib.summary.Summary'>\n",
       "\"\"\"\n",
       "                            OLS Regression Results                            \n",
       "==============================================================================\n",
       "Dep. Variable:                     PE   R-squared:                       0.912\n",
       "Model:                            OLS   Adj. R-squared:                  0.912\n",
       "Method:                 Least Squares   F-statistic:                 3.299e+04\n",
       "Date:                Fri, 12 Jun 2020   Prob (F-statistic):               0.00\n",
       "Time:                        17:23:32   Log-Likelihood:                -29101.\n",
       "No. Observations:                9568   AIC:                         5.821e+04\n",
       "Df Residuals:                    9564   BIC:                         5.824e+04\n",
       "Df Model:                           3                                         \n",
       "Covariance Type:            nonrobust                                         \n",
       "==============================================================================\n",
       "                 coef    std err          t      P>|t|      [0.025      0.975]\n",
       "------------------------------------------------------------------------------\n",
       "Intercept    492.7281      0.673    732.248      0.000     491.409     494.047\n",
       "X             -0.6103      0.124     -4.941      0.000      -0.852      -0.368\n",
       "X2            -0.1251      0.007    -18.199      0.000      -0.139      -0.112\n",
       "X3             0.0027      0.000     22.594      0.000       0.002       0.003\n",
       "==============================================================================\n",
       "Omnibus:                      648.041   Durbin-Watson:                   2.033\n",
       "Prob(Omnibus):                  0.000   Jarque-Bera (JB):             2767.059\n",
       "Skew:                          -0.191   Prob(JB):                         0.00\n",
       "Kurtosis:                       5.607   Cond. No.                     1.90e+05\n",
       "==============================================================================\n",
       "\n",
       "Warnings:\n",
       "[1] Standard Errors assume that the covariance matrix of the errors is correctly specified.\n",
       "[2] The condition number is large, 1.9e+05. This might indicate that there are\n",
       "strong multicollinearity or other numerical problems.\n",
       "\"\"\""
      ]
     },
     "execution_count": 29,
     "metadata": {},
     "output_type": "execute_result"
    }
   ],
   "source": [
    "#AT\n",
    "nonlin_regress(df, 'AT')"
   ]
  },
  {
   "cell_type": "markdown",
   "metadata": {},
   "source": [
    "#### There is evidence of a nonlinear association between AT and PE. The p value is less than 0.05 for X, X^2, and X^3."
   ]
  },
  {
   "cell_type": "markdown",
   "metadata": {},
   "source": [
    "### V:"
   ]
  },
  {
   "cell_type": "code",
   "execution_count": 30,
   "metadata": {},
   "outputs": [
    {
     "data": {
      "text/html": [
       "<table class=\"simpletable\">\n",
       "<caption>OLS Regression Results</caption>\n",
       "<tr>\n",
       "  <th>Dep. Variable:</th>           <td>PE</td>        <th>  R-squared:         </th> <td>   0.775</td> \n",
       "</tr>\n",
       "<tr>\n",
       "  <th>Model:</th>                   <td>OLS</td>       <th>  Adj. R-squared:    </th> <td>   0.775</td> \n",
       "</tr>\n",
       "<tr>\n",
       "  <th>Method:</th>             <td>Least Squares</td>  <th>  F-statistic:       </th> <td>1.098e+04</td>\n",
       "</tr>\n",
       "<tr>\n",
       "  <th>Date:</th>             <td>Fri, 12 Jun 2020</td> <th>  Prob (F-statistic):</th>  <td>  0.00</td>  \n",
       "</tr>\n",
       "<tr>\n",
       "  <th>Time:</th>                 <td>17:23:32</td>     <th>  Log-Likelihood:    </th> <td> -33585.</td> \n",
       "</tr>\n",
       "<tr>\n",
       "  <th>No. Observations:</th>      <td>  9568</td>      <th>  AIC:               </th> <td>6.718e+04</td>\n",
       "</tr>\n",
       "<tr>\n",
       "  <th>Df Residuals:</th>          <td>  9564</td>      <th>  BIC:               </th> <td>6.721e+04</td>\n",
       "</tr>\n",
       "<tr>\n",
       "  <th>Df Model:</th>              <td>     3</td>      <th>                     </th>     <td> </td>    \n",
       "</tr>\n",
       "<tr>\n",
       "  <th>Covariance Type:</th>      <td>nonrobust</td>    <th>                     </th>     <td> </td>    \n",
       "</tr>\n",
       "</table>\n",
       "<table class=\"simpletable\">\n",
       "<tr>\n",
       "      <td></td>         <th>coef</th>     <th>std err</th>      <th>t</th>      <th>P>|t|</th>  <th>[0.025</th>    <th>0.975]</th>  \n",
       "</tr>\n",
       "<tr>\n",
       "  <th>Intercept</th> <td>  554.1468</td> <td>    9.151</td> <td>   60.557</td> <td> 0.000</td> <td>  536.209</td> <td>  572.084</td>\n",
       "</tr>\n",
       "<tr>\n",
       "  <th>X</th>         <td>   -2.1444</td> <td>    0.509</td> <td>   -4.214</td> <td> 0.000</td> <td>   -3.142</td> <td>   -1.147</td>\n",
       "</tr>\n",
       "<tr>\n",
       "  <th>X2</th>        <td>   -0.0027</td> <td>    0.009</td> <td>   -0.294</td> <td> 0.768</td> <td>   -0.021</td> <td>    0.015</td>\n",
       "</tr>\n",
       "<tr>\n",
       "  <th>X3</th>        <td>    0.0001</td> <td> 5.45e-05</td> <td>    2.465</td> <td> 0.014</td> <td> 2.75e-05</td> <td>    0.000</td>\n",
       "</tr>\n",
       "</table>\n",
       "<table class=\"simpletable\">\n",
       "<tr>\n",
       "  <th>Omnibus:</th>       <td>160.101</td> <th>  Durbin-Watson:     </th> <td>   2.009</td>\n",
       "</tr>\n",
       "<tr>\n",
       "  <th>Prob(Omnibus):</th> <td> 0.000</td>  <th>  Jarque-Bera (JB):  </th> <td> 279.778</td>\n",
       "</tr>\n",
       "<tr>\n",
       "  <th>Skew:</th>          <td>-0.125</td>  <th>  Prob(JB):          </th> <td>1.77e-61</td>\n",
       "</tr>\n",
       "<tr>\n",
       "  <th>Kurtosis:</th>      <td> 3.800</td>  <th>  Cond. No.          </th> <td>2.47e+07</td>\n",
       "</tr>\n",
       "</table>"
      ],
      "text/plain": [
       "<class 'statsmodels.iolib.summary.Summary'>\n",
       "\"\"\"\n",
       "                            OLS Regression Results                            \n",
       "==============================================================================\n",
       "Dep. Variable:                     PE   R-squared:                       0.775\n",
       "Model:                            OLS   Adj. R-squared:                  0.775\n",
       "Method:                 Least Squares   F-statistic:                 1.098e+04\n",
       "Date:                Fri, 12 Jun 2020   Prob (F-statistic):               0.00\n",
       "Time:                        17:23:32   Log-Likelihood:                -33585.\n",
       "No. Observations:                9568   AIC:                         6.718e+04\n",
       "Df Residuals:                    9564   BIC:                         6.721e+04\n",
       "Df Model:                           3                                         \n",
       "Covariance Type:            nonrobust                                         \n",
       "==============================================================================\n",
       "                 coef    std err          t      P>|t|      [0.025      0.975]\n",
       "------------------------------------------------------------------------------\n",
       "Intercept    554.1468      9.151     60.557      0.000     536.209     572.084\n",
       "X             -2.1444      0.509     -4.214      0.000      -3.142      -1.147\n",
       "X2            -0.0027      0.009     -0.294      0.768      -0.021       0.015\n",
       "X3             0.0001   5.45e-05      2.465      0.014    2.75e-05       0.000\n",
       "==============================================================================\n",
       "Omnibus:                      160.101   Durbin-Watson:                   2.009\n",
       "Prob(Omnibus):                  0.000   Jarque-Bera (JB):              279.778\n",
       "Skew:                          -0.125   Prob(JB):                     1.77e-61\n",
       "Kurtosis:                       3.800   Cond. No.                     2.47e+07\n",
       "==============================================================================\n",
       "\n",
       "Warnings:\n",
       "[1] Standard Errors assume that the covariance matrix of the errors is correctly specified.\n",
       "[2] The condition number is large, 2.47e+07. This might indicate that there are\n",
       "strong multicollinearity or other numerical problems.\n",
       "\"\"\""
      ]
     },
     "execution_count": 30,
     "metadata": {},
     "output_type": "execute_result"
    }
   ],
   "source": [
    "#V\n",
    "nonlin_regress(df, 'V')"
   ]
  },
  {
   "cell_type": "markdown",
   "metadata": {},
   "source": [
    "#### There is evidence of a nonlinear association between V and PE. The p value is less than 0.05 for the coefficients of X and X^3, however it is greater than 0.05 for the coefficient for X^2. Thus, X and X^3 show a statistically significant association with PE, but X^2 does not."
   ]
  },
  {
   "cell_type": "markdown",
   "metadata": {},
   "source": [
    "### AP:"
   ]
  },
  {
   "cell_type": "code",
   "execution_count": 31,
   "metadata": {},
   "outputs": [
    {
     "data": {
      "text/html": [
       "<table class=\"simpletable\">\n",
       "<caption>OLS Regression Results</caption>\n",
       "<tr>\n",
       "  <th>Dep. Variable:</th>           <td>PE</td>        <th>  R-squared:         </th> <td>   0.275</td> \n",
       "</tr>\n",
       "<tr>\n",
       "  <th>Model:</th>                   <td>OLS</td>       <th>  Adj. R-squared:    </th> <td>   0.275</td> \n",
       "</tr>\n",
       "<tr>\n",
       "  <th>Method:</th>             <td>Least Squares</td>  <th>  F-statistic:       </th> <td>   1813.</td> \n",
       "</tr>\n",
       "<tr>\n",
       "  <th>Date:</th>             <td>Fri, 12 Jun 2020</td> <th>  Prob (F-statistic):</th>  <td>  0.00</td>  \n",
       "</tr>\n",
       "<tr>\n",
       "  <th>Time:</th>                 <td>17:23:32</td>     <th>  Log-Likelihood:    </th> <td> -39184.</td> \n",
       "</tr>\n",
       "<tr>\n",
       "  <th>No. Observations:</th>      <td>  9568</td>      <th>  AIC:               </th> <td>7.837e+04</td>\n",
       "</tr>\n",
       "<tr>\n",
       "  <th>Df Residuals:</th>          <td>  9565</td>      <th>  BIC:               </th> <td>7.840e+04</td>\n",
       "</tr>\n",
       "<tr>\n",
       "  <th>Df Model:</th>              <td>     2</td>      <th>                     </th>     <td> </td>    \n",
       "</tr>\n",
       "<tr>\n",
       "  <th>Covariance Type:</th>      <td>nonrobust</td>    <th>                     </th>     <td> </td>    \n",
       "</tr>\n",
       "</table>\n",
       "<table class=\"simpletable\">\n",
       "<tr>\n",
       "      <td></td>         <th>coef</th>     <th>std err</th>      <th>t</th>      <th>P>|t|</th>  <th>[0.025</th>    <th>0.975]</th>  \n",
       "</tr>\n",
       "<tr>\n",
       "  <th>Intercept</th> <td>    0.0747</td> <td>    0.009</td> <td>    8.415</td> <td> 0.000</td> <td>    0.057</td> <td>    0.092</td>\n",
       "</tr>\n",
       "<tr>\n",
       "  <th>X</th>         <td>   25.2556</td> <td>    3.001</td> <td>    8.415</td> <td> 0.000</td> <td>   19.372</td> <td>   31.139</td>\n",
       "</tr>\n",
       "<tr>\n",
       "  <th>X2</th>        <td>   -0.0500</td> <td>    0.006</td> <td>   -8.439</td> <td> 0.000</td> <td>   -0.062</td> <td>   -0.038</td>\n",
       "</tr>\n",
       "<tr>\n",
       "  <th>X3</th>        <td> 2.514e-05</td> <td> 2.92e-06</td> <td>    8.613</td> <td> 0.000</td> <td> 1.94e-05</td> <td> 3.09e-05</td>\n",
       "</tr>\n",
       "</table>\n",
       "<table class=\"simpletable\">\n",
       "<tr>\n",
       "  <th>Omnibus:</th>       <td>556.766</td> <th>  Durbin-Watson:     </th> <td>   1.997</td> \n",
       "</tr>\n",
       "<tr>\n",
       "  <th>Prob(Omnibus):</th> <td> 0.000</td>  <th>  Jarque-Bera (JB):  </th> <td> 640.319</td> \n",
       "</tr>\n",
       "<tr>\n",
       "  <th>Skew:</th>          <td> 0.621</td>  <th>  Prob(JB):          </th> <td>9.05e-140</td>\n",
       "</tr>\n",
       "<tr>\n",
       "  <th>Kurtosis:</th>      <td> 2.751</td>  <th>  Cond. No.          </th> <td>2.12e+15</td> \n",
       "</tr>\n",
       "</table>"
      ],
      "text/plain": [
       "<class 'statsmodels.iolib.summary.Summary'>\n",
       "\"\"\"\n",
       "                            OLS Regression Results                            \n",
       "==============================================================================\n",
       "Dep. Variable:                     PE   R-squared:                       0.275\n",
       "Model:                            OLS   Adj. R-squared:                  0.275\n",
       "Method:                 Least Squares   F-statistic:                     1813.\n",
       "Date:                Fri, 12 Jun 2020   Prob (F-statistic):               0.00\n",
       "Time:                        17:23:32   Log-Likelihood:                -39184.\n",
       "No. Observations:                9568   AIC:                         7.837e+04\n",
       "Df Residuals:                    9565   BIC:                         7.840e+04\n",
       "Df Model:                           2                                         \n",
       "Covariance Type:            nonrobust                                         \n",
       "==============================================================================\n",
       "                 coef    std err          t      P>|t|      [0.025      0.975]\n",
       "------------------------------------------------------------------------------\n",
       "Intercept      0.0747      0.009      8.415      0.000       0.057       0.092\n",
       "X             25.2556      3.001      8.415      0.000      19.372      31.139\n",
       "X2            -0.0500      0.006     -8.439      0.000      -0.062      -0.038\n",
       "X3          2.514e-05   2.92e-06      8.613      0.000    1.94e-05    3.09e-05\n",
       "==============================================================================\n",
       "Omnibus:                      556.766   Durbin-Watson:                   1.997\n",
       "Prob(Omnibus):                  0.000   Jarque-Bera (JB):              640.319\n",
       "Skew:                           0.621   Prob(JB):                    9.05e-140\n",
       "Kurtosis:                       2.751   Cond. No.                     2.12e+15\n",
       "==============================================================================\n",
       "\n",
       "Warnings:\n",
       "[1] Standard Errors assume that the covariance matrix of the errors is correctly specified.\n",
       "[2] The condition number is large, 2.12e+15. This might indicate that there are\n",
       "strong multicollinearity or other numerical problems.\n",
       "\"\"\""
      ]
     },
     "execution_count": 31,
     "metadata": {},
     "output_type": "execute_result"
    }
   ],
   "source": [
    "#AP\n",
    "nonlin_regress(df, 'AP')"
   ]
  },
  {
   "cell_type": "markdown",
   "metadata": {},
   "source": [
    "#### There is evidence of a nonlinear association between AP and PE. The p value is less than 0.05 for X, X^2, and X^3."
   ]
  },
  {
   "cell_type": "markdown",
   "metadata": {},
   "source": [
    "### RH:"
   ]
  },
  {
   "cell_type": "code",
   "execution_count": 32,
   "metadata": {},
   "outputs": [
    {
     "data": {
      "text/html": [
       "<table class=\"simpletable\">\n",
       "<caption>OLS Regression Results</caption>\n",
       "<tr>\n",
       "  <th>Dep. Variable:</th>           <td>PE</td>        <th>  R-squared:         </th> <td>   0.154</td> \n",
       "</tr>\n",
       "<tr>\n",
       "  <th>Model:</th>                   <td>OLS</td>       <th>  Adj. R-squared:    </th> <td>   0.153</td> \n",
       "</tr>\n",
       "<tr>\n",
       "  <th>Method:</th>             <td>Least Squares</td>  <th>  F-statistic:       </th> <td>   579.2</td> \n",
       "</tr>\n",
       "<tr>\n",
       "  <th>Date:</th>             <td>Fri, 12 Jun 2020</td> <th>  Prob (F-statistic):</th>  <td>  0.00</td>  \n",
       "</tr>\n",
       "<tr>\n",
       "  <th>Time:</th>                 <td>17:23:32</td>     <th>  Log-Likelihood:    </th> <td> -39923.</td> \n",
       "</tr>\n",
       "<tr>\n",
       "  <th>No. Observations:</th>      <td>  9568</td>      <th>  AIC:               </th> <td>7.985e+04</td>\n",
       "</tr>\n",
       "<tr>\n",
       "  <th>Df Residuals:</th>          <td>  9564</td>      <th>  BIC:               </th> <td>7.988e+04</td>\n",
       "</tr>\n",
       "<tr>\n",
       "  <th>Df Model:</th>              <td>     3</td>      <th>                     </th>     <td> </td>    \n",
       "</tr>\n",
       "<tr>\n",
       "  <th>Covariance Type:</th>      <td>nonrobust</td>    <th>                     </th>     <td> </td>    \n",
       "</tr>\n",
       "</table>\n",
       "<table class=\"simpletable\">\n",
       "<tr>\n",
       "      <td></td>         <th>coef</th>     <th>std err</th>      <th>t</th>      <th>P>|t|</th>  <th>[0.025</th>    <th>0.975]</th>  \n",
       "</tr>\n",
       "<tr>\n",
       "  <th>Intercept</th> <td>  468.4135</td> <td>   10.545</td> <td>   44.422</td> <td> 0.000</td> <td>  447.744</td> <td>  489.083</td>\n",
       "</tr>\n",
       "<tr>\n",
       "  <th>X</th>         <td>   -1.7292</td> <td>    0.486</td> <td>   -3.557</td> <td> 0.000</td> <td>   -2.682</td> <td>   -0.776</td>\n",
       "</tr>\n",
       "<tr>\n",
       "  <th>X2</th>        <td>    0.0321</td> <td>    0.007</td> <td>    4.433</td> <td> 0.000</td> <td>    0.018</td> <td>    0.046</td>\n",
       "</tr>\n",
       "<tr>\n",
       "  <th>X3</th>        <td>   -0.0002</td> <td> 3.51e-05</td> <td>   -4.340</td> <td> 0.000</td> <td>   -0.000</td> <td>-8.34e-05</td>\n",
       "</tr>\n",
       "</table>\n",
       "<table class=\"simpletable\">\n",
       "<tr>\n",
       "  <th>Omnibus:</th>       <td>707.867</td> <th>  Durbin-Watson:     </th> <td>   1.998</td>\n",
       "</tr>\n",
       "<tr>\n",
       "  <th>Prob(Omnibus):</th> <td> 0.000</td>  <th>  Jarque-Bera (JB):  </th> <td> 302.057</td>\n",
       "</tr>\n",
       "<tr>\n",
       "  <th>Skew:</th>          <td> 0.223</td>  <th>  Prob(JB):          </th> <td>2.56e-66</td>\n",
       "</tr>\n",
       "<tr>\n",
       "  <th>Kurtosis:</th>      <td> 2.253</td>  <th>  Cond. No.          </th> <td>3.26e+07</td>\n",
       "</tr>\n",
       "</table>"
      ],
      "text/plain": [
       "<class 'statsmodels.iolib.summary.Summary'>\n",
       "\"\"\"\n",
       "                            OLS Regression Results                            \n",
       "==============================================================================\n",
       "Dep. Variable:                     PE   R-squared:                       0.154\n",
       "Model:                            OLS   Adj. R-squared:                  0.153\n",
       "Method:                 Least Squares   F-statistic:                     579.2\n",
       "Date:                Fri, 12 Jun 2020   Prob (F-statistic):               0.00\n",
       "Time:                        17:23:32   Log-Likelihood:                -39923.\n",
       "No. Observations:                9568   AIC:                         7.985e+04\n",
       "Df Residuals:                    9564   BIC:                         7.988e+04\n",
       "Df Model:                           3                                         \n",
       "Covariance Type:            nonrobust                                         \n",
       "==============================================================================\n",
       "                 coef    std err          t      P>|t|      [0.025      0.975]\n",
       "------------------------------------------------------------------------------\n",
       "Intercept    468.4135     10.545     44.422      0.000     447.744     489.083\n",
       "X             -1.7292      0.486     -3.557      0.000      -2.682      -0.776\n",
       "X2             0.0321      0.007      4.433      0.000       0.018       0.046\n",
       "X3            -0.0002   3.51e-05     -4.340      0.000      -0.000   -8.34e-05\n",
       "==============================================================================\n",
       "Omnibus:                      707.867   Durbin-Watson:                   1.998\n",
       "Prob(Omnibus):                  0.000   Jarque-Bera (JB):              302.057\n",
       "Skew:                           0.223   Prob(JB):                     2.56e-66\n",
       "Kurtosis:                       2.253   Cond. No.                     3.26e+07\n",
       "==============================================================================\n",
       "\n",
       "Warnings:\n",
       "[1] Standard Errors assume that the covariance matrix of the errors is correctly specified.\n",
       "[2] The condition number is large, 3.26e+07. This might indicate that there are\n",
       "strong multicollinearity or other numerical problems.\n",
       "\"\"\""
      ]
     },
     "execution_count": 32,
     "metadata": {},
     "output_type": "execute_result"
    }
   ],
   "source": [
    "#RH\n",
    "nonlin_regress(df, 'RH')"
   ]
  },
  {
   "cell_type": "markdown",
   "metadata": {},
   "source": [
    "#### There is evidence of a nonlinear association between RH and PE. The p value is less than 0.05 for X, X^2, and X^3."
   ]
  },
  {
   "cell_type": "markdown",
   "metadata": {},
   "source": [
    "#### Overall Answer: <br>\n",
    "#### Yes, there is evidence of nonlinear association between all of the predictors and the response. All coefficients are significant when alpha=0.05 for all predictors, except for the predictor V. For V, we failed to reject the null for the coefficient for X^2, because its p-value was larger than 0.05 (0.768) "
   ]
  },
  {
   "cell_type": "markdown",
   "metadata": {},
   "source": [
    "### (g) Is there evidence of association of interactions of predictors with the response? To answer this question, run a full linear regression model with all pairwise interaction terms and state whether any interaction terms are statistically significant."
   ]
  },
  {
   "cell_type": "code",
   "execution_count": 33,
   "metadata": {},
   "outputs": [
    {
     "data": {
      "text/html": [
       "<table class=\"simpletable\">\n",
       "<tr>\n",
       "      <td></td>         <th>coef</th>     <th>std err</th>      <th>t</th>      <th>P>|t|</th>  <th>[0.025</th>    <th>0.975]</th>  \n",
       "</tr>\n",
       "<tr>\n",
       "  <th>Intercept</th> <td>  685.7825</td> <td>   78.640</td> <td>    8.721</td> <td> 0.000</td> <td>  531.631</td> <td>  839.934</td>\n",
       "</tr>\n",
       "<tr>\n",
       "  <th>AT</th>        <td>   -4.3470</td> <td>    2.373</td> <td>   -1.832</td> <td> 0.067</td> <td>   -8.999</td> <td>    0.305</td>\n",
       "</tr>\n",
       "<tr>\n",
       "  <th>V</th>         <td>   -7.6749</td> <td>    1.351</td> <td>   -5.682</td> <td> 0.000</td> <td>  -10.323</td> <td>   -5.027</td>\n",
       "</tr>\n",
       "<tr>\n",
       "  <th>AP</th>        <td>   -0.1524</td> <td>    0.077</td> <td>   -1.983</td> <td> 0.047</td> <td>   -0.303</td> <td>   -0.002</td>\n",
       "</tr>\n",
       "<tr>\n",
       "  <th>RH</th>        <td>    1.5709</td> <td>    0.773</td> <td>    2.031</td> <td> 0.042</td> <td>    0.055</td> <td>    3.087</td>\n",
       "</tr>\n",
       "<tr>\n",
       "  <th>AT:V</th>      <td>    0.0210</td> <td>    0.001</td> <td>   23.338</td> <td> 0.000</td> <td>    0.019</td> <td>    0.023</td>\n",
       "</tr>\n",
       "<tr>\n",
       "  <th>AT:AP</th>     <td>    0.0018</td> <td>    0.002</td> <td>    0.752</td> <td> 0.452</td> <td>   -0.003</td> <td>    0.006</td>\n",
       "</tr>\n",
       "<tr>\n",
       "  <th>AT:RH</th>     <td>   -0.0052</td> <td>    0.001</td> <td>   -6.444</td> <td> 0.000</td> <td>   -0.007</td> <td>   -0.004</td>\n",
       "</tr>\n",
       "<tr>\n",
       "  <th>V:AP</th>      <td>    0.0068</td> <td>    0.001</td> <td>    5.135</td> <td> 0.000</td> <td>    0.004</td> <td>    0.009</td>\n",
       "</tr>\n",
       "<tr>\n",
       "  <th>V:RH</th>      <td>    0.0008</td> <td>    0.000</td> <td>    1.716</td> <td> 0.086</td> <td>   -0.000</td> <td>    0.002</td>\n",
       "</tr>\n",
       "<tr>\n",
       "  <th>AP:RH</th>     <td>   -0.0016</td> <td>    0.001</td> <td>   -2.125</td> <td> 0.034</td> <td>   -0.003</td> <td>   -0.000</td>\n",
       "</tr>\n",
       "</table>"
      ],
      "text/plain": [
       "<class 'statsmodels.iolib.table.SimpleTable'>"
      ]
     },
     "execution_count": 33,
     "metadata": {},
     "output_type": "execute_result"
    }
   ],
   "source": [
    "#One model with all possible pairwise combinations\n",
    "interaction_reg = smf.ols(formula='PE ~ AT + V + AP + RH + AT:V + AT:AP + AT:RH + V:AP + V:RH + AP:RH', data=df).fit()\n",
    "summary = interaction_reg.summary()\n",
    "summary.tables[1]"
   ]
  },
  {
   "cell_type": "markdown",
   "metadata": {},
   "source": [
    "#### Answer:<br>\n",
    "#### The following interaction terms are statistically significant at alpha=0.05, because their p-values are less than 0.05:<br>\n",
    "AT x V<br>\n",
    "AT x RH <br>\n",
    "V x AP<br>\n",
    "AP x RH"
   ]
  },
  {
   "cell_type": "markdown",
   "metadata": {},
   "source": [
    "### (h) Can you improve your model using possible interaction terms or nonlinear associations between the predictors and response? Train the regression model on a randomly selected 70% subset of the data with all predictors. Also, run a  regression model involving all possible interaction terms and quadratic nonlinearities, and remove insignificant variables using p-values (be careful about interaction terms). Test both models on the remaining points and report your train and test MSEs. "
   ]
  },
  {
   "cell_type": "code",
   "execution_count": 34,
   "metadata": {},
   "outputs": [
    {
     "data": {
      "text/html": [
       "<div>\n",
       "<style scoped>\n",
       "    .dataframe tbody tr th:only-of-type {\n",
       "        vertical-align: middle;\n",
       "    }\n",
       "\n",
       "    .dataframe tbody tr th {\n",
       "        vertical-align: top;\n",
       "    }\n",
       "\n",
       "    .dataframe thead th {\n",
       "        text-align: right;\n",
       "    }\n",
       "</style>\n",
       "<table border=\"1\" class=\"dataframe\">\n",
       "  <thead>\n",
       "    <tr style=\"text-align: right;\">\n",
       "      <th></th>\n",
       "      <th>AT</th>\n",
       "      <th>AT2</th>\n",
       "      <th>V</th>\n",
       "      <th>V2</th>\n",
       "      <th>AP</th>\n",
       "      <th>AP2</th>\n",
       "      <th>RH</th>\n",
       "      <th>RH2</th>\n",
       "      <th>ATxV</th>\n",
       "      <th>ATxAP</th>\n",
       "      <th>ATxRH</th>\n",
       "      <th>VxAP</th>\n",
       "      <th>VxRH</th>\n",
       "      <th>APxRH</th>\n",
       "      <th>PE</th>\n",
       "    </tr>\n",
       "  </thead>\n",
       "  <tbody>\n",
       "    <tr>\n",
       "      <th>0</th>\n",
       "      <td>14.96</td>\n",
       "      <td>223.8016</td>\n",
       "      <td>41.76</td>\n",
       "      <td>1743.8976</td>\n",
       "      <td>1024.07</td>\n",
       "      <td>1.048719e+06</td>\n",
       "      <td>73.17</td>\n",
       "      <td>5353.8489</td>\n",
       "      <td>624.7296</td>\n",
       "      <td>15320.0872</td>\n",
       "      <td>1094.6232</td>\n",
       "      <td>42765.1632</td>\n",
       "      <td>3055.5792</td>\n",
       "      <td>74931.2019</td>\n",
       "      <td>463.26</td>\n",
       "    </tr>\n",
       "    <tr>\n",
       "      <th>1</th>\n",
       "      <td>25.18</td>\n",
       "      <td>634.0324</td>\n",
       "      <td>62.96</td>\n",
       "      <td>3963.9616</td>\n",
       "      <td>1020.04</td>\n",
       "      <td>1.040482e+06</td>\n",
       "      <td>59.08</td>\n",
       "      <td>3490.4464</td>\n",
       "      <td>1585.3328</td>\n",
       "      <td>25684.6072</td>\n",
       "      <td>1487.6344</td>\n",
       "      <td>64221.7184</td>\n",
       "      <td>3719.6768</td>\n",
       "      <td>60263.9632</td>\n",
       "      <td>444.37</td>\n",
       "    </tr>\n",
       "    <tr>\n",
       "      <th>2</th>\n",
       "      <td>5.11</td>\n",
       "      <td>26.1121</td>\n",
       "      <td>39.40</td>\n",
       "      <td>1552.3600</td>\n",
       "      <td>1012.16</td>\n",
       "      <td>1.024468e+06</td>\n",
       "      <td>92.14</td>\n",
       "      <td>8489.7796</td>\n",
       "      <td>201.3340</td>\n",
       "      <td>5172.1376</td>\n",
       "      <td>470.8354</td>\n",
       "      <td>39879.1040</td>\n",
       "      <td>3630.3160</td>\n",
       "      <td>93260.4224</td>\n",
       "      <td>488.56</td>\n",
       "    </tr>\n",
       "    <tr>\n",
       "      <th>3</th>\n",
       "      <td>20.86</td>\n",
       "      <td>435.1396</td>\n",
       "      <td>57.32</td>\n",
       "      <td>3285.5824</td>\n",
       "      <td>1010.24</td>\n",
       "      <td>1.020585e+06</td>\n",
       "      <td>76.64</td>\n",
       "      <td>5873.6896</td>\n",
       "      <td>1195.6952</td>\n",
       "      <td>21073.6064</td>\n",
       "      <td>1598.7104</td>\n",
       "      <td>57906.9568</td>\n",
       "      <td>4393.0048</td>\n",
       "      <td>77424.7936</td>\n",
       "      <td>446.48</td>\n",
       "    </tr>\n",
       "    <tr>\n",
       "      <th>4</th>\n",
       "      <td>10.82</td>\n",
       "      <td>117.0724</td>\n",
       "      <td>37.50</td>\n",
       "      <td>1406.2500</td>\n",
       "      <td>1009.23</td>\n",
       "      <td>1.018545e+06</td>\n",
       "      <td>96.62</td>\n",
       "      <td>9335.4244</td>\n",
       "      <td>405.7500</td>\n",
       "      <td>10919.8686</td>\n",
       "      <td>1045.4284</td>\n",
       "      <td>37846.1250</td>\n",
       "      <td>3623.2500</td>\n",
       "      <td>97511.8026</td>\n",
       "      <td>473.90</td>\n",
       "    </tr>\n",
       "  </tbody>\n",
       "</table>\n",
       "</div>"
      ],
      "text/plain": [
       "      AT       AT2      V         V2       AP           AP2     RH        RH2  \\\n",
       "0  14.96  223.8016  41.76  1743.8976  1024.07  1.048719e+06  73.17  5353.8489   \n",
       "1  25.18  634.0324  62.96  3963.9616  1020.04  1.040482e+06  59.08  3490.4464   \n",
       "2   5.11   26.1121  39.40  1552.3600  1012.16  1.024468e+06  92.14  8489.7796   \n",
       "3  20.86  435.1396  57.32  3285.5824  1010.24  1.020585e+06  76.64  5873.6896   \n",
       "4  10.82  117.0724  37.50  1406.2500  1009.23  1.018545e+06  96.62  9335.4244   \n",
       "\n",
       "        ATxV       ATxAP      ATxRH        VxAP       VxRH       APxRH      PE  \n",
       "0   624.7296  15320.0872  1094.6232  42765.1632  3055.5792  74931.2019  463.26  \n",
       "1  1585.3328  25684.6072  1487.6344  64221.7184  3719.6768  60263.9632  444.37  \n",
       "2   201.3340   5172.1376   470.8354  39879.1040  3630.3160  93260.4224  488.56  \n",
       "3  1195.6952  21073.6064  1598.7104  57906.9568  4393.0048  77424.7936  446.48  \n",
       "4   405.7500  10919.8686  1045.4284  37846.1250  3623.2500  97511.8026  473.90  "
      ]
     },
     "execution_count": 34,
     "metadata": {},
     "output_type": "execute_result"
    }
   ],
   "source": [
    "#Create new matrix of the predictors to include the polynomials\n",
    "preds=['AT','V','AP','RH']\n",
    "df_g=pd.DataFrame({'A' : []})\n",
    "\n",
    "for i in preds:\n",
    "    X=df.loc[:,i].values.reshape(-1,1)\n",
    "    poly = PolynomialFeatures(2)\n",
    "    X=poly.fit_transform(X)\n",
    "    \n",
    "    #Re-create dataframe from the array X\n",
    "    df_g.loc[:,i]=X[:,1]\n",
    "    df_g.loc[:,i+'2']=X[:,2]\n",
    "\n",
    "\n",
    "df_g.loc[:,'ATxV']=df.loc[:,'AT']*df.loc[:,'V']\n",
    "df_g.loc[:,'ATxAP']=df.loc[:,'AT']*df.loc[:,'AP']\n",
    "df_g.loc[:,'ATxRH']=df.loc[:,'AT']*df.loc[:,'RH']\n",
    "df_g.loc[:,'VxAP']=df.loc[:,'V']*df.loc[:,'AP']\n",
    "df_g.loc[:,'VxRH']=df.loc[:,'V']*df.loc[:,'RH']\n",
    "df_g.loc[:,'APxRH']=df.loc[:,'AP']*df.loc[:,'RH']\n",
    "df_g.loc[:,'PE']=df.loc[:,'PE']\n",
    "df_g=df_g.drop(['A'], axis=1)\n",
    "df_g.head()"
   ]
  },
  {
   "cell_type": "code",
   "execution_count": 35,
   "metadata": {},
   "outputs": [
    {
     "name": "stderr",
     "output_type": "stream",
     "text": [
      "/Users/lukenelson/anaconda3/lib/python3.6/site-packages/sklearn/model_selection/_split.py:2026: FutureWarning: From version 0.21, test_size will always complement train_size unless both are specified.\n",
      "  FutureWarning)\n"
     ]
    }
   ],
   "source": [
    "#Create training and test set\n",
    "#Training size is 70%\n",
    "train, test, train_label, test_label=model_selection.train_test_split(df_g.iloc[:,0:14],df_g.iloc[:,14:], train_size=0.70,shuffle=True, random_state=7)\n",
    "\n",
    "train_constant=sm.add_constant(train)\n",
    "test_constant=sm.add_constant(test)\n"
   ]
  },
  {
   "cell_type": "code",
   "execution_count": 36,
   "metadata": {},
   "outputs": [
    {
     "name": "stdout",
     "output_type": "stream",
     "text": [
      "Simple Model Summary:                             OLS Regression Results                            \n",
      "==============================================================================\n",
      "Dep. Variable:                     PE   R-squared:                       0.929\n",
      "Model:                            OLS   Adj. R-squared:                  0.929\n",
      "Method:                 Least Squares   F-statistic:                 2.177e+04\n",
      "Date:                Fri, 12 Jun 2020   Prob (F-statistic):               0.00\n",
      "Time:                        17:23:32   Log-Likelihood:                -19643.\n",
      "No. Observations:                6697   AIC:                         3.930e+04\n",
      "Df Residuals:                    6692   BIC:                         3.933e+04\n",
      "Df Model:                           4                                         \n",
      "Covariance Type:            nonrobust                                         \n",
      "==============================================================================\n",
      "                 coef    std err          t      P>|t|      [0.025      0.975]\n",
      "------------------------------------------------------------------------------\n",
      "const        466.7175     11.599     40.238      0.000     443.980     489.455\n",
      "AT            -1.9694      0.018   -108.540      0.000      -2.005      -1.934\n",
      "V             -0.2393      0.009    -27.795      0.000      -0.256      -0.222\n",
      "AP             0.0501      0.011      4.450      0.000       0.028       0.072\n",
      "RH            -0.1557      0.005    -31.336      0.000      -0.165      -0.146\n",
      "==============================================================================\n",
      "Omnibus:                      753.667   Durbin-Watson:                   2.004\n",
      "Prob(Omnibus):                  0.000   Jarque-Bera (JB):             3836.507\n",
      "Skew:                          -0.428   Prob(JB):                         0.00\n",
      "Kurtosis:                       6.608   Cond. No.                     2.12e+05\n",
      "==============================================================================\n",
      "\n",
      "Warnings:\n",
      "[1] Standard Errors assume that the covariance matrix of the errors is correctly specified.\n",
      "[2] The condition number is large, 2.12e+05. This might indicate that there are\n",
      "strong multicollinearity or other numerical problems.\n",
      "\n",
      "Complex Model Summary:                             OLS Regression Results                            \n",
      "==============================================================================\n",
      "Dep. Variable:                     PE   R-squared:                       0.938\n",
      "Model:                            OLS   Adj. R-squared:                  0.937\n",
      "Method:                 Least Squares   F-statistic:                     7173.\n",
      "Date:                Fri, 12 Jun 2020   Prob (F-statistic):               0.00\n",
      "Time:                        17:23:32   Log-Likelihood:                -19193.\n",
      "No. Observations:                6697   AIC:                         3.842e+04\n",
      "Df Residuals:                    6682   BIC:                         3.852e+04\n",
      "Df Model:                          14                                         \n",
      "Covariance Type:            nonrobust                                         \n",
      "==============================================================================\n",
      "                 coef    std err          t      P>|t|      [0.025      0.975]\n",
      "------------------------------------------------------------------------------\n",
      "const      -7547.4894   1440.466     -5.240      0.000   -1.04e+04   -4723.717\n",
      "AT            -5.5560      3.731     -1.489      0.137     -12.871       1.759\n",
      "AT2            0.0165      0.004      4.498      0.000       0.009       0.024\n",
      "V             -3.2377      1.775     -1.824      0.068      -6.717       0.241\n",
      "V2            -0.0014      0.001     -1.506      0.132      -0.003       0.000\n",
      "AP            15.7567      2.790      5.648      0.000      10.288      21.226\n",
      "AP2           -0.0077      0.001     -5.694      0.000      -0.010      -0.005\n",
      "RH             3.6357      1.069      3.401      0.001       1.540       5.731\n",
      "RH2           -0.0017      0.000     -5.267      0.000      -0.002      -0.001\n",
      "ATxV           0.0117      0.003      3.722      0.000       0.006       0.018\n",
      "ATxAP          0.0028      0.004      0.771      0.441      -0.004       0.010\n",
      "ATxRH         -0.0049      0.002     -2.686      0.007      -0.008      -0.001\n",
      "VxAP           0.0028      0.002      1.637      0.102      -0.001       0.006\n",
      "VxRH       -9.343e-05      0.001     -0.119      0.905      -0.002       0.001\n",
      "APxRH         -0.0034      0.001     -3.260      0.001      -0.005      -0.001\n",
      "==============================================================================\n",
      "Omnibus:                     1297.196   Durbin-Watson:                   2.001\n",
      "Prob(Omnibus):                  0.000   Jarque-Bera (JB):             9795.797\n",
      "Skew:                          -0.723   Prob(JB):                         0.00\n",
      "Kurtosis:                       8.746   Cond. No.                     2.86e+10\n",
      "==============================================================================\n",
      "\n",
      "Warnings:\n",
      "[1] Standard Errors assume that the covariance matrix of the errors is correctly specified.\n",
      "[2] The condition number is large, 2.86e+10. This might indicate that there are\n",
      "strong multicollinearity or other numerical problems.\n"
     ]
    }
   ],
   "source": [
    "#fit the simple model\n",
    "model_1 = smf.OLS(train_label,train_constant.loc[:,['const','AT','V','AP','RH']]).fit()\n",
    "print('Simple Model Summary:',model_1.summary())\n",
    "print()\n",
    "\n",
    "#fit the complex model\n",
    "model_2 = smf.OLS(train_label,train_constant).fit()\n",
    "print('Complex Model Summary:',model_2.summary())"
   ]
  },
  {
   "cell_type": "markdown",
   "metadata": {},
   "source": [
    "#### As you can see in the Complex Model Summary above, the following variables are insignificant, and will thus be removed:<br>\n",
    "V2<br>\n",
    "ATxAP<br>\n",
    "VxAP<br>\n",
    "VxRH\n"
   ]
  },
  {
   "cell_type": "code",
   "execution_count": 37,
   "metadata": {},
   "outputs": [
    {
     "name": "stdout",
     "output_type": "stream",
     "text": [
      "Updated Complex Model Summary:                             OLS Regression Results                            \n",
      "==============================================================================\n",
      "Dep. Variable:                     PE   R-squared:                       0.937\n",
      "Model:                            OLS   Adj. R-squared:                  0.937\n",
      "Method:                 Least Squares   F-statistic:                 1.002e+04\n",
      "Date:                Fri, 12 Jun 2020   Prob (F-statistic):               0.00\n",
      "Time:                        17:23:33   Log-Likelihood:                -19201.\n",
      "No. Observations:                6697   AIC:                         3.842e+04\n",
      "Df Residuals:                    6686   BIC:                         3.850e+04\n",
      "Df Model:                          10                                         \n",
      "Covariance Type:            nonrobust                                         \n",
      "==============================================================================\n",
      "                 coef    std err          t      P>|t|      [0.025      0.975]\n",
      "------------------------------------------------------------------------------\n",
      "const      -1.043e+04   1080.887     -9.647      0.000   -1.25e+04   -8308.568\n",
      "AT            -2.3947      0.101    -23.767      0.000      -2.592      -2.197\n",
      "AT2            0.0169      0.002      7.512      0.000       0.013       0.021\n",
      "V             -0.4539      0.031    -14.532      0.000      -0.515      -0.393\n",
      "AP            21.1110      2.135      9.887      0.000      16.925      25.297\n",
      "AP2           -0.0102      0.001     -9.651      0.000      -0.012      -0.008\n",
      "RH             5.4498      0.770      7.075      0.000       3.940       6.960\n",
      "RH2           -0.0019      0.000     -6.893      0.000      -0.002      -0.001\n",
      "ATxV           0.0076      0.001      5.320      0.000       0.005       0.010\n",
      "ATxRH         -0.0067      0.001     -7.640      0.000      -0.008      -0.005\n",
      "APxRH         -0.0051      0.001     -6.845      0.000      -0.007      -0.004\n",
      "==============================================================================\n",
      "Omnibus:                     1296.862   Durbin-Watson:                   2.002\n",
      "Prob(Omnibus):                  0.000   Jarque-Bera (JB):             9512.788\n",
      "Skew:                          -0.731   Prob(JB):                         0.00\n",
      "Kurtosis:                       8.653   Cond. No.                     2.14e+10\n",
      "==============================================================================\n",
      "\n",
      "Warnings:\n",
      "[1] Standard Errors assume that the covariance matrix of the errors is correctly specified.\n",
      "[2] The condition number is large, 2.14e+10. This might indicate that there are\n",
      "strong multicollinearity or other numerical problems.\n"
     ]
    }
   ],
   "source": [
    "#re-fit the complex model\n",
    "model_2_updated = smf.OLS(train_label,train_constant.loc[:,['const','AT','AT2','V','AP','AP2','RH','RH2','ATxV','ATxRH','APxRH']]).fit()\n",
    "print('Updated Complex Model Summary:',model_2_updated.summary())\n",
    "\n"
   ]
  },
  {
   "cell_type": "code",
   "execution_count": 38,
   "metadata": {},
   "outputs": [],
   "source": [
    "#Test both models on the training set\n",
    "TRmodel_1_test=model_1.predict(train_constant.loc[:,['const','AT','V','AP','RH']])\n",
    "\n",
    "TRmodel_2_updated_test=model_2_updated.predict(train_constant.loc[:,['const','AT','AT2','V','AP','AP2','RH','RH2','ATxV','ATxRH','APxRH']])\n",
    "\n",
    "\n",
    "#Test both models on the test set\n",
    "\n",
    "model_1_test=model_1.predict(test_constant.loc[:,['const','AT','V','AP','RH']])\n",
    "\n",
    "model_2_updated_test=model_2_updated.predict(test_constant.loc[:,['const','AT','AT2','V','AP','AP2','RH','RH2','ATxV','ATxRH','APxRH']])\n",
    "\n",
    "\n",
    "\n",
    "\n"
   ]
  },
  {
   "cell_type": "code",
   "execution_count": 39,
   "metadata": {},
   "outputs": [
    {
     "name": "stdout",
     "output_type": "stream",
     "text": [
      "Simple Model Training MSE: 20.663292894416\n",
      "Complex Model Training MSE: 18.109948632723913\n",
      "\n",
      "Simple Model Test MSE: 21.03740943783381\n",
      "Complex Model Test MSE: 18.244339491175698\n"
     ]
    }
   ],
   "source": [
    "#Calculate Training MSEs\n",
    "TRMSE_model_1=metrics.mean_squared_error(train_label, TRmodel_1_test)\n",
    "print('Simple Model Training MSE:',TRMSE_model_1)\n",
    "\n",
    "\n",
    "TRMSE_model_2=metrics.mean_squared_error(train_label, TRmodel_2_updated_test)\n",
    "print('Complex Model Training MSE:',TRMSE_model_2)\n",
    "print()\n",
    "\n",
    "\n",
    "#Calculate Test MSEs\n",
    "MSE_model_1=metrics.mean_squared_error(test_label, model_1_test)\n",
    "print('Simple Model Test MSE:',MSE_model_1)\n",
    "\n",
    "\n",
    "MSE_model_2=metrics.mean_squared_error(test_label, model_2_updated_test)\n",
    "print('Complex Model Test MSE:',MSE_model_2)\n",
    "\n",
    "\n"
   ]
  },
  {
   "cell_type": "markdown",
   "metadata": {},
   "source": [
    "#### Answer:<br>\n",
    "#### I was able to improve my model by using possible interaction terms and nonlinear (quadratic) associations between predictors. As you can see above, training and test MSEs were lower for the complex model than they were for the simple model."
   ]
  },
  {
   "cell_type": "markdown",
   "metadata": {},
   "source": [
    "### (i) KNN Regression:<br>\n",
    "### i. Perform k-nearest neighbor regression for this dataset using both normalized and raw features. Find the value of k in {1,2,...,100} that gives you the best fit. Plot the train and test errors in terms of 1/k."
   ]
  },
  {
   "cell_type": "code",
   "execution_count": 40,
   "metadata": {},
   "outputs": [],
   "source": [
    "#Create new train and test sets that contain only our original features\n",
    "train2=train.loc[:,['AT','V','AP','RH']]\n",
    "test2=test.loc[:,['AT','V','AP','RH']]\n",
    "train_label2=train_label\n",
    "test_label2=test_label\n"
   ]
  },
  {
   "cell_type": "code",
   "execution_count": 41,
   "metadata": {},
   "outputs": [],
   "source": [
    "#Create list of k values to loop through\n",
    "k_vals=np.arange(1,101,1)\n",
    "\n",
    "# Normalize the train and test features\n",
    "norm = MinMaxScaler().fit(train2)\n",
    "\n",
    "#Training data\n",
    "train_norm = norm.transform(train2)\n",
    "\n",
    "# Test Data\n",
    "test_norm = norm.transform(test2)\n",
    "\n"
   ]
  },
  {
   "cell_type": "code",
   "execution_count": 42,
   "metadata": {},
   "outputs": [
    {
     "name": "stdout",
     "output_type": "stream",
     "text": [
      "The minimum raw test MSE is: 16.019986740972936\n",
      "This test MSE is produced by the following k values:\n",
      "[6]\n",
      "The minimum raw training MSE is: 0.0\n",
      "This training MSE is produced by the following k values:\n",
      "[1]\n"
     ]
    },
    {
     "data": {
      "image/png": "[encoded data removed]",
      "text/plain": [
       "<matplotlib.figure.Figure at 0x118186eb8>"
      ]
     },
     "metadata": {},
     "output_type": "display_data"
    }
   ],
   "source": [
    "#Use the scikit learn regressor\n",
    "\n",
    "#For raw features\n",
    "raw_train_errors=list()\n",
    "raw_test_errors=list()\n",
    "\n",
    "for i in k_vals:\n",
    "    knr = KNeighborsRegressor(n_neighbors=i)\n",
    "    knr.fit(train2, train_label2)\n",
    "    \n",
    "    train_pred=knr.predict(train2)\n",
    "    train_err=metrics.mean_squared_error(train_label2, train_pred)\n",
    "    raw_train_errors.append(train_err)\n",
    "        \n",
    "    test_pred=knr.predict(test2)\n",
    "    test_err=metrics.mean_squared_error(test_label2, test_pred)\n",
    "    raw_test_errors.append(test_err)\n",
    "\n",
    "#Locate the k value with the lowest test error rate and train error rate\n",
    "a=np.array(raw_test_errors)\n",
    "find_index=np.where(a==a.min())\n",
    "print('The minimum raw test MSE is:',min(raw_test_errors))\n",
    "print('This test MSE is produced by the following k values:')\n",
    "for j in find_index:\n",
    "    k_star=k_vals[j]\n",
    "    print(k_star)\n",
    "\n",
    "b=np.array(raw_train_errors)\n",
    "find_index2=np.where(b==b.min())\n",
    "print('The minimum raw training MSE is:',min(raw_train_errors))\n",
    "print('This training MSE is produced by the following k values:')\n",
    "for q in find_index2:\n",
    "    k_star2=k_vals[q]\n",
    "    print(k_star2)\n",
    "\n",
    "#Plot\n",
    "fig, ax = plt.subplots()\n",
    "ax.plot(1/k_vals, raw_train_errors, 'b-', label='Raw Training MSE')\n",
    "ax.plot(1/k_vals, raw_test_errors, 'g-', label='Raw Testing MSE')\n",
    "leg = ax.legend()\n",
    "ax.set_xlabel('1/k')\n",
    "ax.set_title('MSE vs. k Values')\n",
    "ax.set_ylabel('MSE')\n",
    "ax.grid(True)\n",
    "    \n",
    "    \n",
    "    \n",
    "\n"
   ]
  },
  {
   "cell_type": "code",
   "execution_count": 43,
   "metadata": {},
   "outputs": [
    {
     "name": "stdout",
     "output_type": "stream",
     "text": [
      "The minimum normalized test MSE is: 14.67208018208908\n",
      "This test MSE is produced by the following k values:\n",
      "[6]\n",
      "The minimum normalized train MSE is: 0.0\n",
      "This train MSE is produced by the following k values:\n",
      "[1]\n"
     ]
    },
    {
     "data": {
      "image/png": "[encoded data removed]",
      "text/plain": [
       "<matplotlib.figure.Figure at 0x118186a58>"
      ]
     },
     "metadata": {},
     "output_type": "display_data"
    }
   ],
   "source": [
    "#For normalized features\n",
    "norm_train_errors=list()\n",
    "norm_test_errors=list()\n",
    "\n",
    "for i in k_vals:\n",
    "    knr = KNeighborsRegressor(n_neighbors=i)\n",
    "    knr.fit(train_norm, train_label2)\n",
    "    \n",
    "    train_pred=knr.predict(train_norm)\n",
    "    train_err=metrics.mean_squared_error(train_label2, train_pred)\n",
    "    norm_train_errors.append(train_err)\n",
    "        \n",
    "    test_pred=knr.predict(test_norm)\n",
    "    test_err=metrics.mean_squared_error(test_label2, test_pred)\n",
    "    norm_test_errors.append(test_err)\n",
    "    \n",
    "#Locate the k value with the lowest test error rate and train error rate\n",
    "a=np.array(norm_test_errors)\n",
    "find_index=np.where(a==a.min())\n",
    "print('The minimum normalized test MSE is:',min(norm_test_errors))\n",
    "print('This test MSE is produced by the following k values:')\n",
    "for j in find_index:\n",
    "    k_star=k_vals[j]\n",
    "    print(k_star)\n",
    "\n",
    "b=np.array(norm_train_errors)\n",
    "find_index2=np.where(b==b.min())\n",
    "print('The minimum normalized train MSE is:',min(norm_train_errors))\n",
    "print('This train MSE is produced by the following k values:')\n",
    "for q in find_index2:\n",
    "    k_star2=k_vals[q]\n",
    "    print(k_star2)\n",
    "\n",
    "#Plot\n",
    "fig, ax = plt.subplots()\n",
    "ax.plot(1/k_vals, norm_train_errors, 'b-', label='Normalized Training MSE')\n",
    "ax.plot(1/k_vals, norm_test_errors, 'g-', label='Normalized Testing MSE')\n",
    "leg = ax.legend()\n",
    "ax.set_xlabel('1/k')\n",
    "ax.set_title('MSE vs. k Values')\n",
    "ax.set_ylabel('MSE')\n",
    "ax.grid(True)"
   ]
  },
  {
   "cell_type": "code",
   "execution_count": 44,
   "metadata": {},
   "outputs": [
    {
     "data": {
      "image/png": "[encoded data removed]",
      "text/plain": [
       "<matplotlib.figure.Figure at 0x1181905c0>"
      ]
     },
     "metadata": {},
     "output_type": "display_data"
    }
   ],
   "source": [
    "#Combined Plot\n",
    "fig, ax = plt.subplots()\n",
    "ax.plot(1/k_vals, raw_train_errors, 'r--', label='Raw Training Error')\n",
    "ax.plot(1/k_vals, raw_test_errors, 'm-', label='Raw Testing Error')\n",
    "ax.plot(1/k_vals, norm_train_errors, 'b--', label='Normalized Training Error')\n",
    "ax.plot(1/k_vals, norm_test_errors, 'g-', label='Normalized Testing Error')\n",
    "leg = ax.legend()\n",
    "ax.set_xlabel('1/k')\n",
    "ax.set_title('MSE vs. 1/k Values')\n",
    "ax.set_ylabel('MSE')\n",
    "ax.grid(True)"
   ]
  },
  {
   "cell_type": "markdown",
   "metadata": {},
   "source": [
    "### (j) Compare the results of KNN REgression with the linear regression model that has the smallest test error and provide your anlaysis."
   ]
  },
  {
   "cell_type": "code",
   "execution_count": 45,
   "metadata": {},
   "outputs": [
    {
     "data": {
      "text/html": [
       "<div>\n",
       "<style scoped>\n",
       "    .dataframe tbody tr th:only-of-type {\n",
       "        vertical-align: middle;\n",
       "    }\n",
       "\n",
       "    .dataframe tbody tr th {\n",
       "        vertical-align: top;\n",
       "    }\n",
       "\n",
       "    .dataframe thead th {\n",
       "        text-align: right;\n",
       "    }\n",
       "</style>\n",
       "<table border=\"1\" class=\"dataframe\">\n",
       "  <thead>\n",
       "    <tr style=\"text-align: right;\">\n",
       "      <th></th>\n",
       "      <th>Complex Linear Model</th>\n",
       "      <th>Normalized KNN Model</th>\n",
       "      <th>Raw KNN Model</th>\n",
       "      <th>Simple Linear Model</th>\n",
       "    </tr>\n",
       "  </thead>\n",
       "  <tbody>\n",
       "    <tr>\n",
       "      <th>Training</th>\n",
       "      <td>18.109949</td>\n",
       "      <td>0.00000</td>\n",
       "      <td>0.000000</td>\n",
       "      <td>20.663293</td>\n",
       "    </tr>\n",
       "    <tr>\n",
       "      <th>Test</th>\n",
       "      <td>18.244339</td>\n",
       "      <td>14.67208</td>\n",
       "      <td>16.019987</td>\n",
       "      <td>21.037409</td>\n",
       "    </tr>\n",
       "  </tbody>\n",
       "</table>\n",
       "</div>"
      ],
      "text/plain": [
       "          Complex Linear Model  Normalized KNN Model  Raw KNN Model  \\\n",
       "Training             18.109949               0.00000       0.000000   \n",
       "Test                 18.244339              14.67208      16.019987   \n",
       "\n",
       "          Simple Linear Model  \n",
       "Training            20.663293  \n",
       "Test                21.037409  "
      ]
     },
     "execution_count": 45,
     "metadata": {},
     "output_type": "execute_result"
    }
   ],
   "source": [
    "stats={'Simple Linear Model':[TRMSE_model_1,MSE_model_1],'Complex Linear Model':[TRMSE_model_2, MSE_model_2],'Raw KNN Model':[min(raw_train_errors),min(raw_test_errors)],'Normalized KNN Model':[min(norm_train_errors),min(norm_test_errors)]}\n",
    "stats=pd.DataFrame(stats,index=['Training','Test'])\n",
    "\n",
    "stats\n",
    "\n",
    "\n"
   ]
  },
  {
   "cell_type": "markdown",
   "metadata": {},
   "source": [
    "#### Answer:<br>\n",
    "#### Both KNN Regression models produced smaller MSEs than the two linear models. For the linear models, the simple model produced a larger MSE than the model containing interaction and non-linear associations. For the KNN Regression models, the model with normalized features produced a lower test MSE than the model with raw features. Above is a table of the training and test errors for all 4 models we just discussed. You can see that the normalized KNN regression model performed the best, followed by the raw KNN regression model, followed by the complex linear model, and lastly followed by the simple linear model. "
   ]
  },
  {
   "cell_type": "markdown",
   "metadata": {},
   "source": [
    "## Question 2 - ISLR: 2.4.1<br>\n",
    "### 1. For each of parts (a) through (d), indicate whether we would generally expect the performance of a flexible statistical learning method to be better or worse than an inflexible method. Justify your answer."
   ]
  },
  {
   "cell_type": "markdown",
   "metadata": {},
   "source": [
    "### (a) The sample size n is extremely large, and the number of predictors p is small."
   ]
  },
  {
   "cell_type": "markdown",
   "metadata": {},
   "source": [
    "We would expect a flexible statistical learning method to perform better in this case. Because there is a large amount of data, the flexible model will be able to fit the data, and even with small changes in the training data it is unlikely that f^ will change drastically. "
   ]
  },
  {
   "cell_type": "markdown",
   "metadata": {},
   "source": [
    "### (b) The number of predictors p is extremely large, and the number of observations n is small."
   ]
  },
  {
   "cell_type": "markdown",
   "metadata": {},
   "source": [
    "We would expect a flexible statistical learning method to perform worse in this case. A flexible method would likely overfit the small number of observations, and thus the variance of a flexible model would be very high. If there were a small change in the training set, it is possible there would be a large change in f^ under a flexible model. "
   ]
  },
  {
   "cell_type": "markdown",
   "metadata": {},
   "source": [
    "### (C) The relationship between the predictors and response is highly non-linear."
   ]
  },
  {
   "cell_type": "markdown",
   "metadata": {},
   "source": [
    "We would expect a flexible statistical learning method to perform better in this case. Trying to fit an inflexible model to data with a highly non-linear relationship would result in large bias, because we would be trying to approximate a real life/complex problem with a much simpler model. This issue would not be the case for flexible models. "
   ]
  },
  {
   "cell_type": "markdown",
   "metadata": {},
   "source": [
    "### (d) The variance of the error terms, i.e. Var(epsilon) is extremely high."
   ]
  },
  {
   "cell_type": "markdown",
   "metadata": {},
   "source": [
    "We would expect a flexible statistical learning method to perform worse in this case. A flexible method could overfit the noise of epsilon and as a result, the variance would be large - a small change in the training data would result in large changes in f^. "
   ]
  },
  {
   "cell_type": "markdown",
   "metadata": {},
   "source": [
    "## Question 3 - ISLR: 2.4.7<br>\n",
    "### 7. The table provides a training data set containing six observations, three predictors, and one qualitative response variable. Suppose we wish to use this data set to make a prediction for Y when X1=X2=X3=0 using K-nearest neighbors."
   ]
  },
  {
   "cell_type": "markdown",
   "metadata": {},
   "source": [
    "### (a) Compute the Euclidean distance between each observation and the test point, X1=X2=X3=0"
   ]
  },
  {
   "cell_type": "code",
   "execution_count": 46,
   "metadata": {},
   "outputs": [
    {
     "data": {
      "text/html": [
       "<div>\n",
       "<style scoped>\n",
       "    .dataframe tbody tr th:only-of-type {\n",
       "        vertical-align: middle;\n",
       "    }\n",
       "\n",
       "    .dataframe tbody tr th {\n",
       "        vertical-align: top;\n",
       "    }\n",
       "\n",
       "    .dataframe thead th {\n",
       "        text-align: right;\n",
       "    }\n",
       "</style>\n",
       "<table border=\"1\" class=\"dataframe\">\n",
       "  <thead>\n",
       "    <tr style=\"text-align: right;\">\n",
       "      <th></th>\n",
       "      <th>Obs</th>\n",
       "      <th>X1</th>\n",
       "      <th>X2</th>\n",
       "      <th>X3</th>\n",
       "      <th>Y</th>\n",
       "    </tr>\n",
       "  </thead>\n",
       "  <tbody>\n",
       "    <tr>\n",
       "      <th>0</th>\n",
       "      <td>1</td>\n",
       "      <td>0</td>\n",
       "      <td>3</td>\n",
       "      <td>0</td>\n",
       "      <td>Red</td>\n",
       "    </tr>\n",
       "    <tr>\n",
       "      <th>1</th>\n",
       "      <td>2</td>\n",
       "      <td>2</td>\n",
       "      <td>0</td>\n",
       "      <td>0</td>\n",
       "      <td>Red</td>\n",
       "    </tr>\n",
       "    <tr>\n",
       "      <th>2</th>\n",
       "      <td>3</td>\n",
       "      <td>0</td>\n",
       "      <td>1</td>\n",
       "      <td>3</td>\n",
       "      <td>Red</td>\n",
       "    </tr>\n",
       "    <tr>\n",
       "      <th>3</th>\n",
       "      <td>4</td>\n",
       "      <td>0</td>\n",
       "      <td>1</td>\n",
       "      <td>2</td>\n",
       "      <td>Green</td>\n",
       "    </tr>\n",
       "    <tr>\n",
       "      <th>4</th>\n",
       "      <td>5</td>\n",
       "      <td>-1</td>\n",
       "      <td>0</td>\n",
       "      <td>1</td>\n",
       "      <td>Green</td>\n",
       "    </tr>\n",
       "    <tr>\n",
       "      <th>5</th>\n",
       "      <td>6</td>\n",
       "      <td>1</td>\n",
       "      <td>1</td>\n",
       "      <td>1</td>\n",
       "      <td>Red</td>\n",
       "    </tr>\n",
       "  </tbody>\n",
       "</table>\n",
       "</div>"
      ],
      "text/plain": [
       "   Obs  X1  X2  X3      Y\n",
       "0    1   0   3   0    Red\n",
       "1    2   2   0   0    Red\n",
       "2    3   0   1   3    Red\n",
       "3    4   0   1   2  Green\n",
       "4    5  -1   0   1  Green\n",
       "5    6   1   1   1    Red"
      ]
     },
     "execution_count": 46,
     "metadata": {},
     "output_type": "execute_result"
    }
   ],
   "source": [
    "colors={'Obs':[1,2,3,4,5,6],'X1':[0,2,0,0,-1,1],'X2':[3,0,1,1,0,1],'X3':[0,0,3,2,1,1],'Y':['Red','Red','Red','Green','Green','Red']}\n",
    "colors_df=pd.DataFrame(colors)\n",
    "colors_df"
   ]
  },
  {
   "cell_type": "code",
   "execution_count": 47,
   "metadata": {},
   "outputs": [],
   "source": [
    "def euc_dist(a,b):\n",
    "    x=((a[0]-b[0])**2)+((a[1]-b[1])**2)+((a[2]-b[2])**2)\n",
    "    x=x**0.5\n",
    "    return x"
   ]
  },
  {
   "cell_type": "code",
   "execution_count": 48,
   "metadata": {},
   "outputs": [
    {
     "name": "stdout",
     "output_type": "stream",
     "text": [
      "The distance between the test point and Observation 1 is: 3.0\n",
      "The distance between the test point and Observation 2 is: 2.0\n",
      "The distance between the test point and Observation 3 is: 3.1622776601683795\n",
      "The distance between the test point and Observation 4 is: 2.23606797749979\n",
      "The distance between the test point and Observation 5 is: 1.4142135623730951\n",
      "The distance between the test point and Observation 6 is: 1.7320508075688772\n"
     ]
    }
   ],
   "source": [
    "test_point=(0,0,0)\n",
    "obs1=euc_dist(test_point,(0,3,0))\n",
    "obs2=euc_dist(test_point,(2,0,0))\n",
    "obs3=euc_dist(test_point,(0,1,3))\n",
    "obs4=euc_dist(test_point,(0,1,2))\n",
    "obs5=euc_dist(test_point,(-1,0,1))\n",
    "obs6=euc_dist(test_point,(1,1,1))\n",
    "print('The distance between the test point and Observation 1 is:', obs1)\n",
    "print('The distance between the test point and Observation 2 is:', obs2)\n",
    "print('The distance between the test point and Observation 3 is:', obs3)\n",
    "print('The distance between the test point and Observation 4 is:', obs4)\n",
    "print('The distance between the test point and Observation 5 is:', obs5)\n",
    "print('The distance between the test point and Observation 6 is:', obs6)"
   ]
  },
  {
   "cell_type": "markdown",
   "metadata": {},
   "source": [
    "### (b) What is our prediction with K=1? Why?"
   ]
  },
  {
   "cell_type": "markdown",
   "metadata": {},
   "source": [
    "Our prediction with K=1 is Green. Since we are using 1 nearest neighbor, we look at the Y value for the nearest neighbor. Observation 5 is the nearest neighbor because it has the shortest euclidean distance to our test point. Since the Y value for Observation 5 is Green, then our prediction is Green."
   ]
  },
  {
   "cell_type": "markdown",
   "metadata": {},
   "source": [
    "### (c) What is our prediction with K=3? Why?"
   ]
  },
  {
   "cell_type": "markdown",
   "metadata": {},
   "source": [
    "Our prediction with K=3 is Red. Since we are using 3 nearest neighbors, we look at the most common Y value among the 3 nearest neighbors. Observations 5, 6, and 2 are the nearest observations to our test point because they have the 3 shortest euclidean distances to that point. Observation 5 has a Y value of Green, while Observations 6 and 2 have Y values of Red. Because more of the observations are Red, then our prediction is Red."
   ]
  },
  {
   "cell_type": "markdown",
   "metadata": {},
   "source": [
    "### (d) If the Bayes decision boundary in this problem is highly nonlinear, then would we expect the best vlaue for K to be large or small? Why?"
   ]
  },
  {
   "cell_type": "markdown",
   "metadata": {},
   "source": [
    "We would expect the best K value to be small. As mentioned earlier in the chapter, smaller K values result in more highly flexible decision boundaries. As K grows, the method becomes less flexible and produces a decision boundary that is close to linear. If the Bayes decision boundary in this problem is highly nonlinear, then we would want a more highly flexible decision boundary and thus a smaller value for K."
   ]
  },
  {
   "cell_type": "code",
   "execution_count": null,
   "metadata": {},
   "outputs": [],
   "source": []
  }
 ],
 "metadata": {
  "kernelspec": {
   "display_name": "Python 3",
   "language": "python",
   "name": "python3"
  },
  "language_info": {
   "codemirror_mode": {
    "name": "ipython",
    "version": 3
   },
   "file_extension": ".py",
   "mimetype": "text/x-python",
   "name": "python",
   "nbconvert_exporter": "python",
   "pygments_lexer": "ipython3",
   "version": "3.6.4"
  }
 },
 "nbformat": 4,
 "nbformat_minor": 2
}
